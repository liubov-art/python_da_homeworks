{
  "cells": [
    {
      "cell_type": "markdown",
      "metadata": {
        "id": "view-in-github",
        "colab_type": "text"
      },
      "source": [
        "<a href=\"https://colab.research.google.com/github/lkostenko/python_da_homeworks/blob/main/2_1_%D0%A4%D1%83%D0%BD%D0%BA%D1%86%D1%96%D1%97%D1%97_%D0%9E%D1%81%D0%BD%D0%BE%D0%B2%D0%B8.ipynb\" target=\"_parent\"><img src=\"https://colab.research.google.com/assets/colab-badge.svg\" alt=\"Open In Colab\"/></a>"
      ]
    },
    {
      "cell_type": "markdown",
      "metadata": {
        "id": "QtHabST6Ez_n"
      },
      "source": [
        "# Домашнє завдання до теми \"Functions\""
      ]
    },
    {
      "cell_type": "markdown",
      "metadata": {
        "id": "6pg_NzFq5_kO"
      },
      "source": [
        "1. Напишіть фукнцію `print_message`, яка виводить на екран \"Я програмую на Python💪\" і викличіть цю фукнцію 5 разів (найкраще це зробити в циклі).\n",
        "\n",
        "  **Увага**: фукнція має робити чітко лише зазначений функціонал. Наявність додаткового функціоналу і аргументів, які не потрібні для виконання безпосередньо завдання, буде вважатись помилкою."
      ]
    },
    {
      "cell_type": "code",
      "execution_count": 42,
      "metadata": {
        "id": "RbXsfwI_D8ql"
      },
      "outputs": [],
      "source": [
        "def print_message():\n",
        "    print(\"Я програмую на Python💪\")"
      ]
    },
    {
      "cell_type": "code",
      "execution_count": 43,
      "metadata": {
        "colab": {
          "base_uri": "https://localhost:8080/"
        },
        "id": "zviGZCvn0cLV",
        "outputId": "bdc0f5e2-22a2-42fb-d7bc-e2b83eb046dc"
      },
      "outputs": [
        {
          "output_type": "stream",
          "name": "stdout",
          "text": [
            "Я програмую на Python💪\n",
            "Я програмую на Python💪\n",
            "Я програмую на Python💪\n",
            "Я програмую на Python💪\n",
            "Я програмую на Python💪\n"
          ]
        }
      ],
      "source": [
        "for i in range(5):\n",
        "  print_message()"
      ]
    },
    {
      "cell_type": "markdown",
      "metadata": {
        "id": "oyRpWRXWBL9N"
      },
      "source": [
        "2. Напишіть функцію `calculation` яка приймає на вхід 4 аргументи типу int - `a`, `b`, `c`, `d` і вертає результат обчислення такої формули: $ (a + b - c) * d $.\n",
        "\n",
        "  Викличте функцію на наступному наборі аргументів і виведіть результат на екран:\n",
        "  ```\n",
        "  a = 16\n",
        "  b = 4\n",
        "  c = 9\n",
        "  d = 3\n",
        "  ```"
      ]
    },
    {
      "cell_type": "code",
      "execution_count": 44,
      "metadata": {
        "id": "Ggt2tx6kD-LS"
      },
      "outputs": [],
      "source": [
        "def calculation(a: int, b: int, c: int, d: int) -> int:\n",
        "  return (a + b - c) * d\n"
      ]
    },
    {
      "cell_type": "code",
      "execution_count": 45,
      "metadata": {
        "colab": {
          "base_uri": "https://localhost:8080/"
        },
        "id": "RwyPaP_B3mDe",
        "outputId": "34825d0a-0687-498e-ab57-54aab8e9e714"
      },
      "outputs": [
        {
          "output_type": "execute_result",
          "data": {
            "text/plain": [
              "33"
            ]
          },
          "metadata": {},
          "execution_count": 45
        }
      ],
      "source": [
        "calculation(16, 4, 9, 3)\n"
      ]
    },
    {
      "cell_type": "markdown",
      "metadata": {
        "id": "5hf1CbllDU_t"
      },
      "source": [
        "3. Напишіть функцію, яка додає до аргумента 15 і вертає результат додавання. Викличте функцію, передаючи в якості аргументів кожну з наступних змінних по черзі, і виведіть кожного разу результат на екран.\n",
        "```\n",
        "x = 9\n",
        "y = 14\n",
        "z = -19\n",
        "```"
      ]
    },
    {
      "cell_type": "code",
      "execution_count": 46,
      "metadata": {
        "id": "GvEs_nUtD_Cd",
        "colab": {
          "base_uri": "https://localhost:8080/"
        },
        "outputId": "2b8dec6b-7f41-453f-efb3-83e8b6af30b0"
      },
      "outputs": [
        {
          "output_type": "stream",
          "name": "stdout",
          "text": [
            "24\n",
            "29\n",
            "-4\n"
          ]
        }
      ],
      "source": [
        "def func(a):\n",
        "  return a + 15\n",
        "\n",
        "print(func(9))\n",
        "print(func(14))\n",
        "print(func(-19))"
      ]
    },
    {
      "cell_type": "code",
      "source": [
        "x = 9\n",
        "y = 14\n",
        "z = -19\n",
        "for value in (x, y, z):\n",
        "  print(func(value))"
      ],
      "metadata": {
        "colab": {
          "base_uri": "https://localhost:8080/"
        },
        "id": "5xtiF-KJ4Gyj",
        "outputId": "2ca6d5af-d4dc-4531-ec13-36a8a630d45a"
      },
      "execution_count": 52,
      "outputs": [
        {
          "output_type": "stream",
          "name": "stdout",
          "text": [
            "24\n",
            "29\n",
            "-4\n"
          ]
        }
      ]
    },
    {
      "cell_type": "markdown",
      "metadata": {
        "id": "bUuVBhie53uK"
      },
      "source": [
        "4. Напишіть функцію `multipy_numbers`, яка приймає два числа як аргументи і повертає їх добуток.\n",
        "\n",
        "  Викличіть функцію `multipy_numbers` на парах чисел\n",
        "    - 10 і 2\n",
        "    - 7 і 8\n",
        "    - 1024 і 999.\n",
        "  \n",
        "  Виведіть результат кожного виклику.\n",
        "  При виконанні цього завдання з використанням циклу - отримаєте 2х балів за нього :)"
      ]
    },
    {
      "cell_type": "code",
      "execution_count": 50,
      "metadata": {
        "id": "cDqrgZ4YEAKj",
        "colab": {
          "base_uri": "https://localhost:8080/"
        },
        "outputId": "89e92a91-c88c-4270-9ba6-c82dde3cacbe"
      },
      "outputs": [
        {
          "output_type": "stream",
          "name": "stdout",
          "text": [
            "10 * 2 = 20\n",
            "7 * 8 = 56\n",
            "1024 * 999 = 1022976\n"
          ]
        }
      ],
      "source": [
        "def multipy_numbers(a, b):\n",
        "  return a * b\n",
        "\n",
        "nummbers = [(10 , 2),(7 , 8), (1024 , 999)]\n",
        "for a, b in nummbers:\n",
        "  print(a, \"*\", b, \"=\", multipy_numbers(a, b))"
      ]
    },
    {
      "cell_type": "markdown",
      "metadata": {
        "id": "I03t46k27dDZ"
      },
      "source": [
        "5. **Ділення з перевіркою типів.**  \n",
        "\n",
        "  1. Напишіть функцію `int_division` яка приймає на вхід два аргументи типу `int` - `a` і `b`, і виконує ділення першого аргумента на другий: `a/b`. При цьому функція перед діленням перевіряє, чи другий аргумент не дорівнює 0. Якщо другий аргумент не 0, фукнція вертає результат ділення, інакше - замість виконання ділення, вертає повідомлення на екран \"Не можу виконати ділення на 0\".\n",
        "\n",
        "    Якщо типи, надані у функцію, не `int` - функція виводить повідомлення \"Не працюю з такими типами даних.\".\n",
        "\n",
        "  2. Запустіть функцію на наступних парах чисел:\n",
        "  - 12 і 6\n",
        "  - 20 і 0\n",
        "  - 112 і 10\n",
        "  - 99 і 0\n",
        "  - 11 i 1.1\n",
        "\n",
        "    і виведіть на екран повідомлення \"Результат роботи функції: \" - і далі те, що повернула функція.\n",
        "\n",
        "  3. Дайте відповідь на питання: \"Чому в деяких випадках функція повернула None?\""
      ]
    },
    {
      "cell_type": "code",
      "execution_count": 53,
      "metadata": {
        "id": "1-EQhxrAEEAb"
      },
      "outputs": [],
      "source": [
        "def int_division(a: int, b: int) -> int:\n",
        "  if not isinstance(a, int) or not isinstance (b, int):\n",
        "    print(\"Не працюю з такими типами даних.\")\n",
        "  elif b == 0:\n",
        "    print(\"Не можу виконати ділення на 0\")\n",
        "  else:\n",
        "    return a/b\n",
        "\n",
        "# в даній функції виводить None, коли не виконується умова для return"
      ]
    },
    {
      "cell_type": "code",
      "source": [
        "numbers5 = [(12 , 6), (20 , 0), (112 , 10), (99 , 0), (11 , 1.1)]\n",
        "for a, b in numbers5:\n",
        "  print(\"Результат роботи функції: \", int_division(a, b))"
      ],
      "metadata": {
        "colab": {
          "base_uri": "https://localhost:8080/"
        },
        "id": "8TxV3CIev88L",
        "outputId": "f338d6a5-4b74-4c0f-ddd4-f8cb64f68d96"
      },
      "execution_count": 54,
      "outputs": [
        {
          "output_type": "stream",
          "name": "stdout",
          "text": [
            "Результат роботи функції:  2.0\n",
            "Не можу виконати ділення на 0\n",
            "Результат роботи функції:  None\n",
            "Результат роботи функції:  11.2\n",
            "Не можу виконати ділення на 0\n",
            "Результат роботи функції:  None\n",
            "Не працюю з такими типами даних.\n",
            "Результат роботи функції:  None\n"
          ]
        }
      ]
    },
    {
      "cell_type": "code",
      "source": [
        "def int_division2(a: int, b: int) -> int:\n",
        "  if not isinstance(a, int) or not isinstance (b, int):\n",
        "    return \"Не працюю з такими типами даних.\"\n",
        "  elif b == 0:\n",
        "    return \"Не можу виконати ділення на 0\"\n",
        "  else:\n",
        "    return a/b"
      ],
      "metadata": {
        "id": "qzYJQGKH0v62"
      },
      "execution_count": 55,
      "outputs": []
    },
    {
      "cell_type": "code",
      "source": [
        "for a, b in numbers5:\n",
        "  print(\"Результат роботи функції: \", int_division2(a, b))"
      ],
      "metadata": {
        "colab": {
          "base_uri": "https://localhost:8080/"
        },
        "id": "8sK1Q1zi08dt",
        "outputId": "54500b45-2ba4-4c98-a01d-b6171251c3e0"
      },
      "execution_count": 56,
      "outputs": [
        {
          "output_type": "stream",
          "name": "stdout",
          "text": [
            "Результат роботи функції:  2.0\n",
            "Результат роботи функції:  Не можу виконати ділення на 0\n",
            "Результат роботи функції:  11.2\n",
            "Результат роботи функції:  Не можу виконати ділення на 0\n",
            "Результат роботи функції:  Не працюю з такими типами даних.\n"
          ]
        }
      ]
    }
  ],
  "metadata": {
    "colab": {
      "provenance": [],
      "include_colab_link": true
    },
    "kernelspec": {
      "display_name": "Python 3",
      "name": "python3"
    },
    "language_info": {
      "name": "python"
    }
  },
  "nbformat": 4,
  "nbformat_minor": 0
}