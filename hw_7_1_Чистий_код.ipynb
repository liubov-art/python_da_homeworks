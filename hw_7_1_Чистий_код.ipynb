{
  "cells": [
    {
      "cell_type": "markdown",
      "metadata": {
        "id": "view-in-github",
        "colab_type": "text"
      },
      "source": [
        "<a href=\"https://colab.research.google.com/github/lkostenko/python_da_homeworks/blob/main/hw_7_1_%D0%A7%D0%B8%D1%81%D1%82%D0%B8%D0%B9_%D0%BA%D0%BE%D0%B4.ipynb\" target=\"_parent\"><img src=\"https://colab.research.google.com/assets/colab-badge.svg\" alt=\"Open In Colab\"/></a>"
      ]
    },
    {
      "cell_type": "markdown",
      "id": "aed503f1",
      "metadata": {
        "ExecuteTime": {
          "end_time": "2023-07-27T20:14:32.871852Z",
          "start_time": "2023-07-27T20:14:31.036121Z"
        },
        "id": "aed503f1"
      },
      "source": [
        "У завданнях 1-4. Вам наданий простий код на Python, який не відповідає вказівкам PEP8. Ваше завдання — відредагувати код так, аби він відповідав PEP8. Напишіть після редагуванню коду, дотримання яких правил з pep8 ви досягли в відредагованій версі, наприклад\n",
        "```\n",
        "- додала пробіли навколо бінарного оператора\n",
        "- додала два порожні рядки між визначеннями функцій\n",
        "і тд\n",
        "```\n",
        "Також можна зазанчити використані правила коментарями по коду, а не окремим повідомленням.\n",
        "\n",
        "Відредагований код має виконувати весь той самий функціонал, але бути написаний відповідно до вимог до гарного коду на Python! Не забудьте запустити відредагований код, він має бути робочим."
      ]
    },
    {
      "cell_type": "markdown",
      "id": "e7fea147",
      "metadata": {
        "id": "e7fea147"
      },
      "source": [
        "Завдання 1."
      ]
    },
    {
      "cell_type": "code",
      "execution_count": 5,
      "id": "f63d84d7",
      "metadata": {
        "ExecuteTime": {
          "end_time": "2023-07-29T17:02:37.075783Z",
          "start_time": "2023-07-29T17:02:37.035259Z"
        },
        "id": "f63d84d7",
        "colab": {
          "base_uri": "https://localhost:8080/",
          "height": 69
        },
        "outputId": "70c4f0e6-3859-4b3d-fae5-c0dcc3836b57"
      },
      "outputs": [
        {
          "output_type": "stream",
          "name": "stdout",
          "text": [
            "Hello, John\n"
          ]
        },
        {
          "output_type": "display_data",
          "data": {
            "text/plain": [
              "None"
            ]
          },
          "metadata": {}
        },
        {
          "output_type": "display_data",
          "data": {
            "text/plain": [
              "8"
            ]
          },
          "metadata": {}
        }
      ],
      "source": [
        "def greet(name):print(f\"Hello, {name}\")\n",
        "def add(n1,n2):return n1+n2\n",
        "\n",
        "x = 5;y = 3\n",
        "display(greet(\"John\"),add(x,y))\n"
      ]
    },
    {
      "cell_type": "code",
      "execution_count": 12,
      "id": "41b7e672",
      "metadata": {
        "id": "41b7e672",
        "colab": {
          "base_uri": "https://localhost:8080/",
          "height": 69
        },
        "outputId": "63e0ebc9-dca2-4059-d314-3469e3d9bfb7"
      },
      "outputs": [
        {
          "output_type": "stream",
          "name": "stdout",
          "text": [
            "Hello, John\n"
          ]
        },
        {
          "output_type": "display_data",
          "data": {
            "text/plain": [
              "None"
            ]
          },
          "metadata": {}
        },
        {
          "output_type": "display_data",
          "data": {
            "text/plain": [
              "8"
            ]
          },
          "metadata": {}
        }
      ],
      "source": [
        "def greet(name):\n",
        "  print(f\"Hello, {name}\")\n",
        "# додала відступи для тіла функції\n",
        "\n",
        "def add(n1, n2):\n",
        "  return n1 + n2\n",
        "# додала відступи для тіла функції; додала пробіли після коми при визначенні параметрів функцій; додала пробіли навколо бінарного оператора\n",
        "\n",
        "x = 5\n",
        "y = 3\n",
        "\n",
        "display(greet(\"John\"), add(x, y))\n",
        "# кожну змінну записала з нового рядка, додала пробіл після \",\" перед add, додала пробіл після x, перед у"
      ]
    },
    {
      "cell_type": "markdown",
      "id": "cea88baf",
      "metadata": {
        "id": "cea88baf"
      },
      "source": [
        "Завдання 2."
      ]
    },
    {
      "cell_type": "code",
      "execution_count": 6,
      "id": "dfb6d2b5",
      "metadata": {
        "ExecuteTime": {
          "end_time": "2023-07-29T17:05:49.706098Z",
          "start_time": "2023-07-29T17:05:49.688255Z"
        },
        "id": "dfb6d2b5",
        "colab": {
          "base_uri": "https://localhost:8080/"
        },
        "outputId": "8f1f794f-4da8-439d-e022-fbe07920d2c2"
      },
      "outputs": [
        {
          "output_type": "stream",
          "name": "stdout",
          "text": [
            "Area: 78.53981633974483 Circumference: 31.41592653589793\n"
          ]
        }
      ],
      "source": [
        "from math import *\n",
        "def calcArea(r):return pi*r**2\n",
        "def calcCircumference(r):return 2*pi*r\n",
        "\n",
        "radius=5\n",
        "print(\"Area:\",calcArea(radius),\"Circumference:\",calcCircumference(radius))"
      ]
    },
    {
      "cell_type": "code",
      "execution_count": 13,
      "id": "df263672",
      "metadata": {
        "id": "df263672",
        "colab": {
          "base_uri": "https://localhost:8080/"
        },
        "outputId": "501a5e75-50cc-4ebb-f02c-e135b1375fc0"
      },
      "outputs": [
        {
          "output_type": "stream",
          "name": "stdout",
          "text": [
            "Area: 78.53981633974483 Circumference: 31.41592653589793\n"
          ]
        }
      ],
      "source": [
        "from math import pi\n",
        "# імпортую лише необхідний елемент, а не всю бібліотеку\n",
        "\n",
        "def calc_area(r):\n",
        "  return pi * r ** 2\n",
        "# додала відступи для тіла функції; назвала функцію, використовуючи snake_case; додала пробіли навколо бінарних операторів\n",
        "\n",
        "def calc_circumference(r):\n",
        "  return 2 * pi * r\n",
        "# додала відступи для тіла функції, назвала функцію, використовуючи snake_case; додала пробіли навколо бінарних операторів\n",
        "\n",
        "radius = 5\n",
        "# додала пробіли навколо бінарного оператора\n",
        "\n",
        "print(\"Area:\", calc_area(radius), \"Circumference:\", calc_circumference(radius))\n",
        "# додала пробіли"
      ]
    },
    {
      "cell_type": "markdown",
      "id": "1fd691b7",
      "metadata": {
        "id": "1fd691b7"
      },
      "source": [
        "Завдання 3."
      ]
    },
    {
      "cell_type": "code",
      "execution_count": 19,
      "id": "1d5acb2d",
      "metadata": {
        "ExecuteTime": {
          "end_time": "2023-07-29T17:06:18.612622Z",
          "start_time": "2023-07-29T17:06:18.598477Z"
        },
        "id": "1d5acb2d"
      },
      "outputs": [],
      "source": [
        "class animal: pass\n",
        "class dog(animal):\n",
        "    def __init__(self,name):\n",
        "        self.name=name\n",
        "        self.type='Dog'"
      ]
    },
    {
      "cell_type": "code",
      "execution_count": 31,
      "id": "0d4b2b8a",
      "metadata": {
        "id": "0d4b2b8a"
      },
      "outputs": [],
      "source": [
        "class Animal:\n",
        "  pass\n",
        "\n",
        "class Dog(Animal):\n",
        "  def __init__(self, name):\n",
        "    self.name = name\n",
        "    self.type = 'Dog'\n",
        "\n",
        "# назви класів з великої літери; додала відступи та пробіли"
      ]
    },
    {
      "cell_type": "code",
      "source": [
        "my_dog = Dog(\"Leo\")\n",
        "\n",
        "print(f\"I have a {my_dog.type}. His name is {my_dog.name}\")"
      ],
      "metadata": {
        "colab": {
          "base_uri": "https://localhost:8080/"
        },
        "id": "2A342cjLEwo5",
        "outputId": "d3ec23fd-0d25-4377-db23-995f0d85d663"
      },
      "id": "2A342cjLEwo5",
      "execution_count": 35,
      "outputs": [
        {
          "output_type": "stream",
          "name": "stdout",
          "text": [
            "I have a Dog. His name is Leo\n"
          ]
        }
      ]
    },
    {
      "cell_type": "markdown",
      "id": "7d1d4f5d",
      "metadata": {
        "id": "7d1d4f5d"
      },
      "source": [
        "Завдання 4."
      ]
    },
    {
      "cell_type": "code",
      "execution_count": 36,
      "id": "a91c1cc4",
      "metadata": {
        "ExecuteTime": {
          "end_time": "2023-07-29T17:06:47.180263Z",
          "start_time": "2023-07-29T17:06:47.173617Z"
        },
        "id": "a91c1cc4",
        "colab": {
          "base_uri": "https://localhost:8080/"
        },
        "outputId": "a7d36f0e-5c1c-41c9-9d86-c97dadc6dbc7"
      },
      "outputs": [
        {
          "output_type": "stream",
          "name": "stdout",
          "text": [
            "1\n",
            "2\n",
            "3\n",
            "4\n",
            "5\n"
          ]
        }
      ],
      "source": [
        "list=[1,2,3,4,5]\n",
        "for i in range(len(list)):print(list[i])"
      ]
    },
    {
      "cell_type": "code",
      "execution_count": 40,
      "id": "c0f9541a",
      "metadata": {
        "id": "c0f9541a",
        "colab": {
          "base_uri": "https://localhost:8080/"
        },
        "outputId": "98206be6-e0c1-4384-da33-ccc96e4a8221"
      },
      "outputs": [
        {
          "output_type": "stream",
          "name": "stdout",
          "text": [
            "1\n",
            "2\n",
            "3\n",
            "4\n",
            "5\n"
          ]
        }
      ],
      "source": [
        "numbers  = [1, 2, 3, 4, 5]\n",
        "\n",
        "for n in numbers:\n",
        "  print(n)\n",
        "\n",
        "# змінила назву списку; дадала відступи та пробіли; змінила цикл"
      ]
    },
    {
      "cell_type": "markdown",
      "id": "8b0487e6",
      "metadata": {
        "id": "8b0487e6"
      },
      "source": [
        "5.У вас є DataFrame df, що представляє результати тестів студентів з математики, англійської мови та історії. Поточний код обчислює середній бал для кожного студента шляхом ітерації за рядками DataFrame за допомогою iterrows().\n",
        "\n",
        "Ваше завдання полягає в тому, щоб змінити код так, аби уникнути використання iterrows() і замість цього застосувати більш ефективне та читабельне рішення відповідно до правил, озвучених у лекції. Рефакторинг треба зробити лише частині, де рахуються середні, імпорт і визначення датафрейму лишаємо без змін."
      ]
    },
    {
      "cell_type": "code",
      "execution_count": 56,
      "id": "5b3cc648",
      "metadata": {
        "ExecuteTime": {
          "end_time": "2023-07-29T17:15:55.926882Z",
          "start_time": "2023-07-29T17:15:55.686415Z"
        },
        "id": "5b3cc648"
      },
      "outputs": [],
      "source": [
        "import pandas as pd\n",
        "\n",
        "df = pd.DataFrame({\n",
        "    'student': ['Alice', 'Bob', 'Charlie', 'David'],\n",
        "    'math_score': [89, 94, 77, 85],\n",
        "    'english_score': [92, 88, 79, 85],\n",
        "    'history_score': [84, 92, 81, 89]\n",
        "})"
      ]
    },
    {
      "cell_type": "code",
      "execution_count": 57,
      "id": "f5858889",
      "metadata": {
        "ExecuteTime": {
          "end_time": "2023-07-29T17:15:55.926882Z",
          "start_time": "2023-07-29T17:15:55.686415Z"
        },
        "id": "f5858889"
      },
      "outputs": [],
      "source": [
        "averages = []\n",
        "for _, row in df.iterrows():\n",
        "    averages.append((row['math_score'] + row['english_score'] + row['history_score']) / 3)\n",
        "\n",
        "df['average_score'] = averages"
      ]
    },
    {
      "cell_type": "code",
      "source": [
        "df['average_score']"
      ],
      "metadata": {
        "colab": {
          "base_uri": "https://localhost:8080/",
          "height": 210
        },
        "id": "VCwfeJ6IMvJj",
        "outputId": "c77a9f2a-6620-4ded-9a18-319f1cc13de9"
      },
      "id": "VCwfeJ6IMvJj",
      "execution_count": 58,
      "outputs": [
        {
          "output_type": "execute_result",
          "data": {
            "text/plain": [
              "0    88.333333\n",
              "1    91.333333\n",
              "2    79.000000\n",
              "3    86.333333\n",
              "Name: average_score, dtype: float64"
            ],
            "text/html": [
              "<div>\n",
              "<style scoped>\n",
              "    .dataframe tbody tr th:only-of-type {\n",
              "        vertical-align: middle;\n",
              "    }\n",
              "\n",
              "    .dataframe tbody tr th {\n",
              "        vertical-align: top;\n",
              "    }\n",
              "\n",
              "    .dataframe thead th {\n",
              "        text-align: right;\n",
              "    }\n",
              "</style>\n",
              "<table border=\"1\" class=\"dataframe\">\n",
              "  <thead>\n",
              "    <tr style=\"text-align: right;\">\n",
              "      <th></th>\n",
              "      <th>average_score</th>\n",
              "    </tr>\n",
              "  </thead>\n",
              "  <tbody>\n",
              "    <tr>\n",
              "      <th>0</th>\n",
              "      <td>88.333333</td>\n",
              "    </tr>\n",
              "    <tr>\n",
              "      <th>1</th>\n",
              "      <td>91.333333</td>\n",
              "    </tr>\n",
              "    <tr>\n",
              "      <th>2</th>\n",
              "      <td>79.000000</td>\n",
              "    </tr>\n",
              "    <tr>\n",
              "      <th>3</th>\n",
              "      <td>86.333333</td>\n",
              "    </tr>\n",
              "  </tbody>\n",
              "</table>\n",
              "</div><br><label><b>dtype:</b> float64</label>"
            ]
          },
          "metadata": {},
          "execution_count": 58
        }
      ]
    },
    {
      "cell_type": "code",
      "execution_count": 59,
      "id": "74cea4fc",
      "metadata": {
        "id": "74cea4fc"
      },
      "outputs": [],
      "source": [
        "df['average_score'] = (df['math_score'] + df['english_score'] + df['history_score']) / 3"
      ]
    },
    {
      "cell_type": "code",
      "source": [
        "df['average_score']"
      ],
      "metadata": {
        "colab": {
          "base_uri": "https://localhost:8080/",
          "height": 210
        },
        "id": "8hGNZT1RMmJf",
        "outputId": "a2323afa-9910-4c83-fcb6-6a9f894c7aff"
      },
      "id": "8hGNZT1RMmJf",
      "execution_count": 60,
      "outputs": [
        {
          "output_type": "execute_result",
          "data": {
            "text/plain": [
              "0    88.333333\n",
              "1    91.333333\n",
              "2    79.000000\n",
              "3    86.333333\n",
              "Name: average_score, dtype: float64"
            ],
            "text/html": [
              "<div>\n",
              "<style scoped>\n",
              "    .dataframe tbody tr th:only-of-type {\n",
              "        vertical-align: middle;\n",
              "    }\n",
              "\n",
              "    .dataframe tbody tr th {\n",
              "        vertical-align: top;\n",
              "    }\n",
              "\n",
              "    .dataframe thead th {\n",
              "        text-align: right;\n",
              "    }\n",
              "</style>\n",
              "<table border=\"1\" class=\"dataframe\">\n",
              "  <thead>\n",
              "    <tr style=\"text-align: right;\">\n",
              "      <th></th>\n",
              "      <th>average_score</th>\n",
              "    </tr>\n",
              "  </thead>\n",
              "  <tbody>\n",
              "    <tr>\n",
              "      <th>0</th>\n",
              "      <td>88.333333</td>\n",
              "    </tr>\n",
              "    <tr>\n",
              "      <th>1</th>\n",
              "      <td>91.333333</td>\n",
              "    </tr>\n",
              "    <tr>\n",
              "      <th>2</th>\n",
              "      <td>79.000000</td>\n",
              "    </tr>\n",
              "    <tr>\n",
              "      <th>3</th>\n",
              "      <td>86.333333</td>\n",
              "    </tr>\n",
              "  </tbody>\n",
              "</table>\n",
              "</div><br><label><b>dtype:</b> float64</label>"
            ]
          },
          "metadata": {},
          "execution_count": 60
        }
      ]
    },
    {
      "cell_type": "code",
      "source": [
        "df['average_score'] = df[['math_score', 'english_score', 'history_score']].mean(axis=1)"
      ],
      "metadata": {
        "id": "71r7-4rvL9xZ"
      },
      "id": "71r7-4rvL9xZ",
      "execution_count": 61,
      "outputs": []
    },
    {
      "cell_type": "code",
      "source": [
        "df['average_score']"
      ],
      "metadata": {
        "colab": {
          "base_uri": "https://localhost:8080/",
          "height": 210
        },
        "id": "99vH9F2WMnlW",
        "outputId": "ce4e3046-8c72-4c75-dc52-761e4351a328"
      },
      "id": "99vH9F2WMnlW",
      "execution_count": 62,
      "outputs": [
        {
          "output_type": "execute_result",
          "data": {
            "text/plain": [
              "0    88.333333\n",
              "1    91.333333\n",
              "2    79.000000\n",
              "3    86.333333\n",
              "Name: average_score, dtype: float64"
            ],
            "text/html": [
              "<div>\n",
              "<style scoped>\n",
              "    .dataframe tbody tr th:only-of-type {\n",
              "        vertical-align: middle;\n",
              "    }\n",
              "\n",
              "    .dataframe tbody tr th {\n",
              "        vertical-align: top;\n",
              "    }\n",
              "\n",
              "    .dataframe thead th {\n",
              "        text-align: right;\n",
              "    }\n",
              "</style>\n",
              "<table border=\"1\" class=\"dataframe\">\n",
              "  <thead>\n",
              "    <tr style=\"text-align: right;\">\n",
              "      <th></th>\n",
              "      <th>average_score</th>\n",
              "    </tr>\n",
              "  </thead>\n",
              "  <tbody>\n",
              "    <tr>\n",
              "      <th>0</th>\n",
              "      <td>88.333333</td>\n",
              "    </tr>\n",
              "    <tr>\n",
              "      <th>1</th>\n",
              "      <td>91.333333</td>\n",
              "    </tr>\n",
              "    <tr>\n",
              "      <th>2</th>\n",
              "      <td>79.000000</td>\n",
              "    </tr>\n",
              "    <tr>\n",
              "      <th>3</th>\n",
              "      <td>86.333333</td>\n",
              "    </tr>\n",
              "  </tbody>\n",
              "</table>\n",
              "</div><br><label><b>dtype:</b> float64</label>"
            ]
          },
          "metadata": {},
          "execution_count": 62
        }
      ]
    },
    {
      "cell_type": "markdown",
      "id": "34fb1db9",
      "metadata": {
        "id": "34fb1db9"
      },
      "source": [
        "6.У Вас є великий DataFrame df, що представляє транзакції продажу в магазині. Цей DataFrame містить понад 1 мільйон рядків і кілька стовпців, зокрема «product_name», «product_category», «product_price» і «transaction_date».\n",
        "\n",
        "І «product_name», і «product_category» є рядками, що представляють численні, але обмежені унікальні назви продуктів і категорії відповідно.\n",
        "\n",
        "Напишіть код для ефективного перетворення стовпців «product_name» і «product_category» на категорійний тип для ефективного використання пам’яті.\n",
        "Спробуйте вирішити це завдання, мінімізуючи використання пам'яті та зберігаючи читабельність коду. Крім того, виміряйте використання пам’яті до та після перетворення, щоб продемонструвати підвищення ефективності.\n",
        "\n",
        "Порівняйте кількість памʼяті, яку займає наданий набір даних і новий, створений Вами. В лекції був приклад. В скільки разів менше памʼяті займає новий датафрейм?"
      ]
    },
    {
      "cell_type": "code",
      "execution_count": 87,
      "id": "d4926909",
      "metadata": {
        "ExecuteTime": {
          "end_time": "2023-07-29T21:19:30.009527Z",
          "start_time": "2023-07-29T21:19:29.595210Z"
        },
        "id": "d4926909",
        "colab": {
          "base_uri": "https://localhost:8080/"
        },
        "outputId": "29011c1e-48e3-4a21-c88a-c9586395b923"
      },
      "outputs": [
        {
          "output_type": "execute_result",
          "data": {
            "text/plain": [
              "32000000"
            ]
          },
          "metadata": {},
          "execution_count": 87
        }
      ],
      "source": [
        "import pandas as pd\n",
        "import numpy as np\n",
        "\n",
        "np.random.seed(0)\n",
        "\n",
        "products = ['apple', 'banana', 'cherry', 'dates', 'elderberry']\n",
        "categories = ['fruit', 'fruit', 'fruit', 'fruit', 'fruit']\n",
        "\n",
        "N_ROWS = 10**6\n",
        "df = pd.DataFrame({\n",
        "    'product_name': np.random.choice(products, N_ROWS),\n",
        "    'product_category': np.random.choice(categories, N_ROWS),\n",
        "    'product_price': np.random.uniform(1, 10, N_ROWS),\n",
        "    'transaction_date': pd.date_range(start='1/1/2000', periods=N_ROWS, freq='h')\n",
        "})\n",
        "df.memory_usage(index=False).sum()"
      ]
    },
    {
      "cell_type": "code",
      "source": [
        "df.head()"
      ],
      "metadata": {
        "colab": {
          "base_uri": "https://localhost:8080/",
          "height": 206
        },
        "id": "RSaLL131N647",
        "outputId": "c1c55c78-3445-448a-c98a-fcd730a6adbe"
      },
      "id": "RSaLL131N647",
      "execution_count": 88,
      "outputs": [
        {
          "output_type": "execute_result",
          "data": {
            "text/plain": [
              "  product_name product_category  product_price    transaction_date\n",
              "0   elderberry            fruit       4.696674 2000-01-01 00:00:00\n",
              "1        apple            fruit       7.176635 2000-01-01 01:00:00\n",
              "2        dates            fruit       2.507932 2000-01-01 02:00:00\n",
              "3        dates            fruit       2.079303 2000-01-01 03:00:00\n",
              "4        dates            fruit       9.482386 2000-01-01 04:00:00"
            ],
            "text/html": [
              "\n",
              "  <div id=\"df-14f4fe60-1255-4d9a-ad83-380862a1dabc\" class=\"colab-df-container\">\n",
              "    <div>\n",
              "<style scoped>\n",
              "    .dataframe tbody tr th:only-of-type {\n",
              "        vertical-align: middle;\n",
              "    }\n",
              "\n",
              "    .dataframe tbody tr th {\n",
              "        vertical-align: top;\n",
              "    }\n",
              "\n",
              "    .dataframe thead th {\n",
              "        text-align: right;\n",
              "    }\n",
              "</style>\n",
              "<table border=\"1\" class=\"dataframe\">\n",
              "  <thead>\n",
              "    <tr style=\"text-align: right;\">\n",
              "      <th></th>\n",
              "      <th>product_name</th>\n",
              "      <th>product_category</th>\n",
              "      <th>product_price</th>\n",
              "      <th>transaction_date</th>\n",
              "    </tr>\n",
              "  </thead>\n",
              "  <tbody>\n",
              "    <tr>\n",
              "      <th>0</th>\n",
              "      <td>elderberry</td>\n",
              "      <td>fruit</td>\n",
              "      <td>4.696674</td>\n",
              "      <td>2000-01-01 00:00:00</td>\n",
              "    </tr>\n",
              "    <tr>\n",
              "      <th>1</th>\n",
              "      <td>apple</td>\n",
              "      <td>fruit</td>\n",
              "      <td>7.176635</td>\n",
              "      <td>2000-01-01 01:00:00</td>\n",
              "    </tr>\n",
              "    <tr>\n",
              "      <th>2</th>\n",
              "      <td>dates</td>\n",
              "      <td>fruit</td>\n",
              "      <td>2.507932</td>\n",
              "      <td>2000-01-01 02:00:00</td>\n",
              "    </tr>\n",
              "    <tr>\n",
              "      <th>3</th>\n",
              "      <td>dates</td>\n",
              "      <td>fruit</td>\n",
              "      <td>2.079303</td>\n",
              "      <td>2000-01-01 03:00:00</td>\n",
              "    </tr>\n",
              "    <tr>\n",
              "      <th>4</th>\n",
              "      <td>dates</td>\n",
              "      <td>fruit</td>\n",
              "      <td>9.482386</td>\n",
              "      <td>2000-01-01 04:00:00</td>\n",
              "    </tr>\n",
              "  </tbody>\n",
              "</table>\n",
              "</div>\n",
              "    <div class=\"colab-df-buttons\">\n",
              "\n",
              "  <div class=\"colab-df-container\">\n",
              "    <button class=\"colab-df-convert\" onclick=\"convertToInteractive('df-14f4fe60-1255-4d9a-ad83-380862a1dabc')\"\n",
              "            title=\"Convert this dataframe to an interactive table.\"\n",
              "            style=\"display:none;\">\n",
              "\n",
              "  <svg xmlns=\"http://www.w3.org/2000/svg\" height=\"24px\" viewBox=\"0 -960 960 960\">\n",
              "    <path d=\"M120-120v-720h720v720H120Zm60-500h600v-160H180v160Zm220 220h160v-160H400v160Zm0 220h160v-160H400v160ZM180-400h160v-160H180v160Zm440 0h160v-160H620v160ZM180-180h160v-160H180v160Zm440 0h160v-160H620v160Z\"/>\n",
              "  </svg>\n",
              "    </button>\n",
              "\n",
              "  <style>\n",
              "    .colab-df-container {\n",
              "      display:flex;\n",
              "      gap: 12px;\n",
              "    }\n",
              "\n",
              "    .colab-df-convert {\n",
              "      background-color: #E8F0FE;\n",
              "      border: none;\n",
              "      border-radius: 50%;\n",
              "      cursor: pointer;\n",
              "      display: none;\n",
              "      fill: #1967D2;\n",
              "      height: 32px;\n",
              "      padding: 0 0 0 0;\n",
              "      width: 32px;\n",
              "    }\n",
              "\n",
              "    .colab-df-convert:hover {\n",
              "      background-color: #E2EBFA;\n",
              "      box-shadow: 0px 1px 2px rgba(60, 64, 67, 0.3), 0px 1px 3px 1px rgba(60, 64, 67, 0.15);\n",
              "      fill: #174EA6;\n",
              "    }\n",
              "\n",
              "    .colab-df-buttons div {\n",
              "      margin-bottom: 4px;\n",
              "    }\n",
              "\n",
              "    [theme=dark] .colab-df-convert {\n",
              "      background-color: #3B4455;\n",
              "      fill: #D2E3FC;\n",
              "    }\n",
              "\n",
              "    [theme=dark] .colab-df-convert:hover {\n",
              "      background-color: #434B5C;\n",
              "      box-shadow: 0px 1px 3px 1px rgba(0, 0, 0, 0.15);\n",
              "      filter: drop-shadow(0px 1px 2px rgba(0, 0, 0, 0.3));\n",
              "      fill: #FFFFFF;\n",
              "    }\n",
              "  </style>\n",
              "\n",
              "    <script>\n",
              "      const buttonEl =\n",
              "        document.querySelector('#df-14f4fe60-1255-4d9a-ad83-380862a1dabc button.colab-df-convert');\n",
              "      buttonEl.style.display =\n",
              "        google.colab.kernel.accessAllowed ? 'block' : 'none';\n",
              "\n",
              "      async function convertToInteractive(key) {\n",
              "        const element = document.querySelector('#df-14f4fe60-1255-4d9a-ad83-380862a1dabc');\n",
              "        const dataTable =\n",
              "          await google.colab.kernel.invokeFunction('convertToInteractive',\n",
              "                                                    [key], {});\n",
              "        if (!dataTable) return;\n",
              "\n",
              "        const docLinkHtml = 'Like what you see? Visit the ' +\n",
              "          '<a target=\"_blank\" href=https://colab.research.google.com/notebooks/data_table.ipynb>data table notebook</a>'\n",
              "          + ' to learn more about interactive tables.';\n",
              "        element.innerHTML = '';\n",
              "        dataTable['output_type'] = 'display_data';\n",
              "        await google.colab.output.renderOutput(dataTable, element);\n",
              "        const docLink = document.createElement('div');\n",
              "        docLink.innerHTML = docLinkHtml;\n",
              "        element.appendChild(docLink);\n",
              "      }\n",
              "    </script>\n",
              "  </div>\n",
              "\n",
              "\n",
              "<div id=\"df-a58fd4a4-04e6-49d8-a032-d1b123fa67fb\">\n",
              "  <button class=\"colab-df-quickchart\" onclick=\"quickchart('df-a58fd4a4-04e6-49d8-a032-d1b123fa67fb')\"\n",
              "            title=\"Suggest charts\"\n",
              "            style=\"display:none;\">\n",
              "\n",
              "<svg xmlns=\"http://www.w3.org/2000/svg\" height=\"24px\"viewBox=\"0 0 24 24\"\n",
              "     width=\"24px\">\n",
              "    <g>\n",
              "        <path d=\"M19 3H5c-1.1 0-2 .9-2 2v14c0 1.1.9 2 2 2h14c1.1 0 2-.9 2-2V5c0-1.1-.9-2-2-2zM9 17H7v-7h2v7zm4 0h-2V7h2v10zm4 0h-2v-4h2v4z\"/>\n",
              "    </g>\n",
              "</svg>\n",
              "  </button>\n",
              "\n",
              "<style>\n",
              "  .colab-df-quickchart {\n",
              "      --bg-color: #E8F0FE;\n",
              "      --fill-color: #1967D2;\n",
              "      --hover-bg-color: #E2EBFA;\n",
              "      --hover-fill-color: #174EA6;\n",
              "      --disabled-fill-color: #AAA;\n",
              "      --disabled-bg-color: #DDD;\n",
              "  }\n",
              "\n",
              "  [theme=dark] .colab-df-quickchart {\n",
              "      --bg-color: #3B4455;\n",
              "      --fill-color: #D2E3FC;\n",
              "      --hover-bg-color: #434B5C;\n",
              "      --hover-fill-color: #FFFFFF;\n",
              "      --disabled-bg-color: #3B4455;\n",
              "      --disabled-fill-color: #666;\n",
              "  }\n",
              "\n",
              "  .colab-df-quickchart {\n",
              "    background-color: var(--bg-color);\n",
              "    border: none;\n",
              "    border-radius: 50%;\n",
              "    cursor: pointer;\n",
              "    display: none;\n",
              "    fill: var(--fill-color);\n",
              "    height: 32px;\n",
              "    padding: 0;\n",
              "    width: 32px;\n",
              "  }\n",
              "\n",
              "  .colab-df-quickchart:hover {\n",
              "    background-color: var(--hover-bg-color);\n",
              "    box-shadow: 0 1px 2px rgba(60, 64, 67, 0.3), 0 1px 3px 1px rgba(60, 64, 67, 0.15);\n",
              "    fill: var(--button-hover-fill-color);\n",
              "  }\n",
              "\n",
              "  .colab-df-quickchart-complete:disabled,\n",
              "  .colab-df-quickchart-complete:disabled:hover {\n",
              "    background-color: var(--disabled-bg-color);\n",
              "    fill: var(--disabled-fill-color);\n",
              "    box-shadow: none;\n",
              "  }\n",
              "\n",
              "  .colab-df-spinner {\n",
              "    border: 2px solid var(--fill-color);\n",
              "    border-color: transparent;\n",
              "    border-bottom-color: var(--fill-color);\n",
              "    animation:\n",
              "      spin 1s steps(1) infinite;\n",
              "  }\n",
              "\n",
              "  @keyframes spin {\n",
              "    0% {\n",
              "      border-color: transparent;\n",
              "      border-bottom-color: var(--fill-color);\n",
              "      border-left-color: var(--fill-color);\n",
              "    }\n",
              "    20% {\n",
              "      border-color: transparent;\n",
              "      border-left-color: var(--fill-color);\n",
              "      border-top-color: var(--fill-color);\n",
              "    }\n",
              "    30% {\n",
              "      border-color: transparent;\n",
              "      border-left-color: var(--fill-color);\n",
              "      border-top-color: var(--fill-color);\n",
              "      border-right-color: var(--fill-color);\n",
              "    }\n",
              "    40% {\n",
              "      border-color: transparent;\n",
              "      border-right-color: var(--fill-color);\n",
              "      border-top-color: var(--fill-color);\n",
              "    }\n",
              "    60% {\n",
              "      border-color: transparent;\n",
              "      border-right-color: var(--fill-color);\n",
              "    }\n",
              "    80% {\n",
              "      border-color: transparent;\n",
              "      border-right-color: var(--fill-color);\n",
              "      border-bottom-color: var(--fill-color);\n",
              "    }\n",
              "    90% {\n",
              "      border-color: transparent;\n",
              "      border-bottom-color: var(--fill-color);\n",
              "    }\n",
              "  }\n",
              "</style>\n",
              "\n",
              "  <script>\n",
              "    async function quickchart(key) {\n",
              "      const quickchartButtonEl =\n",
              "        document.querySelector('#' + key + ' button');\n",
              "      quickchartButtonEl.disabled = true;  // To prevent multiple clicks.\n",
              "      quickchartButtonEl.classList.add('colab-df-spinner');\n",
              "      try {\n",
              "        const charts = await google.colab.kernel.invokeFunction(\n",
              "            'suggestCharts', [key], {});\n",
              "      } catch (error) {\n",
              "        console.error('Error during call to suggestCharts:', error);\n",
              "      }\n",
              "      quickchartButtonEl.classList.remove('colab-df-spinner');\n",
              "      quickchartButtonEl.classList.add('colab-df-quickchart-complete');\n",
              "    }\n",
              "    (() => {\n",
              "      let quickchartButtonEl =\n",
              "        document.querySelector('#df-a58fd4a4-04e6-49d8-a032-d1b123fa67fb button');\n",
              "      quickchartButtonEl.style.display =\n",
              "        google.colab.kernel.accessAllowed ? 'block' : 'none';\n",
              "    })();\n",
              "  </script>\n",
              "</div>\n",
              "    </div>\n",
              "  </div>\n"
            ],
            "application/vnd.google.colaboratory.intrinsic+json": {
              "type": "dataframe",
              "variable_name": "df"
            }
          },
          "metadata": {},
          "execution_count": 88
        }
      ]
    },
    {
      "cell_type": "code",
      "source": [
        "for col in ['product_name', 'product_category']:\n",
        "    df[col] = pd.Categorical(df[col])\n",
        "\n",
        "df.memory_usage(index=False).sum()"
      ],
      "metadata": {
        "colab": {
          "base_uri": "https://localhost:8080/"
        },
        "id": "XENq5iQzQywG",
        "outputId": "97988649-4afe-4a12-8752-ec3b1f53f287"
      },
      "id": "XENq5iQzQywG",
      "execution_count": 89,
      "outputs": [
        {
          "output_type": "execute_result",
          "data": {
            "text/plain": [
              "18000328"
            ]
          },
          "metadata": {},
          "execution_count": 89
        }
      ]
    },
    {
      "cell_type": "code",
      "source": [
        "print(f\"Маємо зниження витрат памʼяті на {round((1 - 18000328/32000000) *100,2)}% !\")"
      ],
      "metadata": {
        "colab": {
          "base_uri": "https://localhost:8080/"
        },
        "id": "PAejYclyR6ft",
        "outputId": "a9ee4297-620e-4128-c7d8-b118b050fb63"
      },
      "id": "PAejYclyR6ft",
      "execution_count": 90,
      "outputs": [
        {
          "output_type": "stream",
          "name": "stdout",
          "text": [
            "Маємо зниження витрат памʼяті на 43.75% !\n"
          ]
        }
      ]
    },
    {
      "cell_type": "markdown",
      "id": "131cc08d",
      "metadata": {
        "id": "131cc08d"
      },
      "source": [
        "7.В цьому завданні кілька пунктів. Треба виконати усі послідовно.   \n",
        "    7.1. Завантажте дані у pandas dataframe з файла `ecommerce_data.csv`. Обовʼязково при завантаженні вкажіть параметр `encoding = 'ISO-8859-1'`, без нього буде помилка.  \n",
        "    7.2. Заповніть пропущені значення в колонці CustomerID на -1 та перетворіть тип цієї колонки на str, адже зараз вона типу float, а це не правильний тип даних для ідентифікатора клієнта.  \n",
        "    7.3. З допомогою бібліотеки sweetviz побудуйте html звіт, який порівнює дані для країни \"Germany\" і країни \"France\". У Вас можуть виникнути багато попереджень (Warning), їх рекомендую вимкнути наступним шматком коду   \n",
        "    \n",
        "   \n",
        "    import warnings\n",
        "\n",
        "    with warnings.catch_warnings(record=True):\n",
        "        # your code\n",
        "    \n",
        "    \n",
        "   7.4.Напишіть 5 відмінностей для двох зазначених країн на основі побудованого звіту, без виконання додаткового аналізу іншими інструментами."
      ]
    },
    {
      "cell_type": "code",
      "execution_count": 91,
      "id": "17200e77",
      "metadata": {
        "id": "17200e77",
        "colab": {
          "base_uri": "https://localhost:8080/"
        },
        "outputId": "007882c5-2b48-41e2-80d3-7bea49e1fc16"
      },
      "outputs": [
        {
          "output_type": "stream",
          "name": "stdout",
          "text": [
            "Mounted at /content/drive\n"
          ]
        }
      ],
      "source": [
        "from google.colab import drive\n",
        "drive.mount('/content/drive')"
      ]
    },
    {
      "cell_type": "code",
      "source": [
        "data_path = ('/content/drive/MyDrive/курс Аналітик/Модуль 7. Чистий код та оптимізація аналітичної роботи/Homeworks/ecommerce_data.csv')\n",
        "df = pd.read_csv(data_path, encoding = 'ISO-8859-1')\n",
        "df.head()"
      ],
      "metadata": {
        "colab": {
          "base_uri": "https://localhost:8080/",
          "height": 206
        },
        "id": "6r5P3zCmTkcn",
        "outputId": "cd3e64bb-422c-4571-c2f5-efb55a725ac0"
      },
      "id": "6r5P3zCmTkcn",
      "execution_count": 124,
      "outputs": [
        {
          "output_type": "execute_result",
          "data": {
            "text/plain": [
              "  InvoiceNo StockCode                          Description  Quantity  \\\n",
              "0    536365    85123A   WHITE HANGING HEART T-LIGHT HOLDER         6   \n",
              "1    536365     71053                  WHITE METAL LANTERN         6   \n",
              "2    536365    84406B       CREAM CUPID HEARTS COAT HANGER         8   \n",
              "3    536365    84029G  KNITTED UNION FLAG HOT WATER BOTTLE         6   \n",
              "4    536365    84029E       RED WOOLLY HOTTIE WHITE HEART.         6   \n",
              "\n",
              "      InvoiceDate  UnitPrice  CustomerID         Country  \n",
              "0  12/1/2010 8:26       2.55     17850.0  United Kingdom  \n",
              "1  12/1/2010 8:26       3.39     17850.0  United Kingdom  \n",
              "2  12/1/2010 8:26       2.75     17850.0  United Kingdom  \n",
              "3  12/1/2010 8:26       3.39     17850.0  United Kingdom  \n",
              "4  12/1/2010 8:26       3.39     17850.0  United Kingdom  "
            ],
            "text/html": [
              "\n",
              "  <div id=\"df-5b935310-808e-4b05-a18e-f552efba82c4\" class=\"colab-df-container\">\n",
              "    <div>\n",
              "<style scoped>\n",
              "    .dataframe tbody tr th:only-of-type {\n",
              "        vertical-align: middle;\n",
              "    }\n",
              "\n",
              "    .dataframe tbody tr th {\n",
              "        vertical-align: top;\n",
              "    }\n",
              "\n",
              "    .dataframe thead th {\n",
              "        text-align: right;\n",
              "    }\n",
              "</style>\n",
              "<table border=\"1\" class=\"dataframe\">\n",
              "  <thead>\n",
              "    <tr style=\"text-align: right;\">\n",
              "      <th></th>\n",
              "      <th>InvoiceNo</th>\n",
              "      <th>StockCode</th>\n",
              "      <th>Description</th>\n",
              "      <th>Quantity</th>\n",
              "      <th>InvoiceDate</th>\n",
              "      <th>UnitPrice</th>\n",
              "      <th>CustomerID</th>\n",
              "      <th>Country</th>\n",
              "    </tr>\n",
              "  </thead>\n",
              "  <tbody>\n",
              "    <tr>\n",
              "      <th>0</th>\n",
              "      <td>536365</td>\n",
              "      <td>85123A</td>\n",
              "      <td>WHITE HANGING HEART T-LIGHT HOLDER</td>\n",
              "      <td>6</td>\n",
              "      <td>12/1/2010 8:26</td>\n",
              "      <td>2.55</td>\n",
              "      <td>17850.0</td>\n",
              "      <td>United Kingdom</td>\n",
              "    </tr>\n",
              "    <tr>\n",
              "      <th>1</th>\n",
              "      <td>536365</td>\n",
              "      <td>71053</td>\n",
              "      <td>WHITE METAL LANTERN</td>\n",
              "      <td>6</td>\n",
              "      <td>12/1/2010 8:26</td>\n",
              "      <td>3.39</td>\n",
              "      <td>17850.0</td>\n",
              "      <td>United Kingdom</td>\n",
              "    </tr>\n",
              "    <tr>\n",
              "      <th>2</th>\n",
              "      <td>536365</td>\n",
              "      <td>84406B</td>\n",
              "      <td>CREAM CUPID HEARTS COAT HANGER</td>\n",
              "      <td>8</td>\n",
              "      <td>12/1/2010 8:26</td>\n",
              "      <td>2.75</td>\n",
              "      <td>17850.0</td>\n",
              "      <td>United Kingdom</td>\n",
              "    </tr>\n",
              "    <tr>\n",
              "      <th>3</th>\n",
              "      <td>536365</td>\n",
              "      <td>84029G</td>\n",
              "      <td>KNITTED UNION FLAG HOT WATER BOTTLE</td>\n",
              "      <td>6</td>\n",
              "      <td>12/1/2010 8:26</td>\n",
              "      <td>3.39</td>\n",
              "      <td>17850.0</td>\n",
              "      <td>United Kingdom</td>\n",
              "    </tr>\n",
              "    <tr>\n",
              "      <th>4</th>\n",
              "      <td>536365</td>\n",
              "      <td>84029E</td>\n",
              "      <td>RED WOOLLY HOTTIE WHITE HEART.</td>\n",
              "      <td>6</td>\n",
              "      <td>12/1/2010 8:26</td>\n",
              "      <td>3.39</td>\n",
              "      <td>17850.0</td>\n",
              "      <td>United Kingdom</td>\n",
              "    </tr>\n",
              "  </tbody>\n",
              "</table>\n",
              "</div>\n",
              "    <div class=\"colab-df-buttons\">\n",
              "\n",
              "  <div class=\"colab-df-container\">\n",
              "    <button class=\"colab-df-convert\" onclick=\"convertToInteractive('df-5b935310-808e-4b05-a18e-f552efba82c4')\"\n",
              "            title=\"Convert this dataframe to an interactive table.\"\n",
              "            style=\"display:none;\">\n",
              "\n",
              "  <svg xmlns=\"http://www.w3.org/2000/svg\" height=\"24px\" viewBox=\"0 -960 960 960\">\n",
              "    <path d=\"M120-120v-720h720v720H120Zm60-500h600v-160H180v160Zm220 220h160v-160H400v160Zm0 220h160v-160H400v160ZM180-400h160v-160H180v160Zm440 0h160v-160H620v160ZM180-180h160v-160H180v160Zm440 0h160v-160H620v160Z\"/>\n",
              "  </svg>\n",
              "    </button>\n",
              "\n",
              "  <style>\n",
              "    .colab-df-container {\n",
              "      display:flex;\n",
              "      gap: 12px;\n",
              "    }\n",
              "\n",
              "    .colab-df-convert {\n",
              "      background-color: #E8F0FE;\n",
              "      border: none;\n",
              "      border-radius: 50%;\n",
              "      cursor: pointer;\n",
              "      display: none;\n",
              "      fill: #1967D2;\n",
              "      height: 32px;\n",
              "      padding: 0 0 0 0;\n",
              "      width: 32px;\n",
              "    }\n",
              "\n",
              "    .colab-df-convert:hover {\n",
              "      background-color: #E2EBFA;\n",
              "      box-shadow: 0px 1px 2px rgba(60, 64, 67, 0.3), 0px 1px 3px 1px rgba(60, 64, 67, 0.15);\n",
              "      fill: #174EA6;\n",
              "    }\n",
              "\n",
              "    .colab-df-buttons div {\n",
              "      margin-bottom: 4px;\n",
              "    }\n",
              "\n",
              "    [theme=dark] .colab-df-convert {\n",
              "      background-color: #3B4455;\n",
              "      fill: #D2E3FC;\n",
              "    }\n",
              "\n",
              "    [theme=dark] .colab-df-convert:hover {\n",
              "      background-color: #434B5C;\n",
              "      box-shadow: 0px 1px 3px 1px rgba(0, 0, 0, 0.15);\n",
              "      filter: drop-shadow(0px 1px 2px rgba(0, 0, 0, 0.3));\n",
              "      fill: #FFFFFF;\n",
              "    }\n",
              "  </style>\n",
              "\n",
              "    <script>\n",
              "      const buttonEl =\n",
              "        document.querySelector('#df-5b935310-808e-4b05-a18e-f552efba82c4 button.colab-df-convert');\n",
              "      buttonEl.style.display =\n",
              "        google.colab.kernel.accessAllowed ? 'block' : 'none';\n",
              "\n",
              "      async function convertToInteractive(key) {\n",
              "        const element = document.querySelector('#df-5b935310-808e-4b05-a18e-f552efba82c4');\n",
              "        const dataTable =\n",
              "          await google.colab.kernel.invokeFunction('convertToInteractive',\n",
              "                                                    [key], {});\n",
              "        if (!dataTable) return;\n",
              "\n",
              "        const docLinkHtml = 'Like what you see? Visit the ' +\n",
              "          '<a target=\"_blank\" href=https://colab.research.google.com/notebooks/data_table.ipynb>data table notebook</a>'\n",
              "          + ' to learn more about interactive tables.';\n",
              "        element.innerHTML = '';\n",
              "        dataTable['output_type'] = 'display_data';\n",
              "        await google.colab.output.renderOutput(dataTable, element);\n",
              "        const docLink = document.createElement('div');\n",
              "        docLink.innerHTML = docLinkHtml;\n",
              "        element.appendChild(docLink);\n",
              "      }\n",
              "    </script>\n",
              "  </div>\n",
              "\n",
              "\n",
              "<div id=\"df-6d0f4c8a-843a-44c7-9076-e87661a8a75a\">\n",
              "  <button class=\"colab-df-quickchart\" onclick=\"quickchart('df-6d0f4c8a-843a-44c7-9076-e87661a8a75a')\"\n",
              "            title=\"Suggest charts\"\n",
              "            style=\"display:none;\">\n",
              "\n",
              "<svg xmlns=\"http://www.w3.org/2000/svg\" height=\"24px\"viewBox=\"0 0 24 24\"\n",
              "     width=\"24px\">\n",
              "    <g>\n",
              "        <path d=\"M19 3H5c-1.1 0-2 .9-2 2v14c0 1.1.9 2 2 2h14c1.1 0 2-.9 2-2V5c0-1.1-.9-2-2-2zM9 17H7v-7h2v7zm4 0h-2V7h2v10zm4 0h-2v-4h2v4z\"/>\n",
              "    </g>\n",
              "</svg>\n",
              "  </button>\n",
              "\n",
              "<style>\n",
              "  .colab-df-quickchart {\n",
              "      --bg-color: #E8F0FE;\n",
              "      --fill-color: #1967D2;\n",
              "      --hover-bg-color: #E2EBFA;\n",
              "      --hover-fill-color: #174EA6;\n",
              "      --disabled-fill-color: #AAA;\n",
              "      --disabled-bg-color: #DDD;\n",
              "  }\n",
              "\n",
              "  [theme=dark] .colab-df-quickchart {\n",
              "      --bg-color: #3B4455;\n",
              "      --fill-color: #D2E3FC;\n",
              "      --hover-bg-color: #434B5C;\n",
              "      --hover-fill-color: #FFFFFF;\n",
              "      --disabled-bg-color: #3B4455;\n",
              "      --disabled-fill-color: #666;\n",
              "  }\n",
              "\n",
              "  .colab-df-quickchart {\n",
              "    background-color: var(--bg-color);\n",
              "    border: none;\n",
              "    border-radius: 50%;\n",
              "    cursor: pointer;\n",
              "    display: none;\n",
              "    fill: var(--fill-color);\n",
              "    height: 32px;\n",
              "    padding: 0;\n",
              "    width: 32px;\n",
              "  }\n",
              "\n",
              "  .colab-df-quickchart:hover {\n",
              "    background-color: var(--hover-bg-color);\n",
              "    box-shadow: 0 1px 2px rgba(60, 64, 67, 0.3), 0 1px 3px 1px rgba(60, 64, 67, 0.15);\n",
              "    fill: var(--button-hover-fill-color);\n",
              "  }\n",
              "\n",
              "  .colab-df-quickchart-complete:disabled,\n",
              "  .colab-df-quickchart-complete:disabled:hover {\n",
              "    background-color: var(--disabled-bg-color);\n",
              "    fill: var(--disabled-fill-color);\n",
              "    box-shadow: none;\n",
              "  }\n",
              "\n",
              "  .colab-df-spinner {\n",
              "    border: 2px solid var(--fill-color);\n",
              "    border-color: transparent;\n",
              "    border-bottom-color: var(--fill-color);\n",
              "    animation:\n",
              "      spin 1s steps(1) infinite;\n",
              "  }\n",
              "\n",
              "  @keyframes spin {\n",
              "    0% {\n",
              "      border-color: transparent;\n",
              "      border-bottom-color: var(--fill-color);\n",
              "      border-left-color: var(--fill-color);\n",
              "    }\n",
              "    20% {\n",
              "      border-color: transparent;\n",
              "      border-left-color: var(--fill-color);\n",
              "      border-top-color: var(--fill-color);\n",
              "    }\n",
              "    30% {\n",
              "      border-color: transparent;\n",
              "      border-left-color: var(--fill-color);\n",
              "      border-top-color: var(--fill-color);\n",
              "      border-right-color: var(--fill-color);\n",
              "    }\n",
              "    40% {\n",
              "      border-color: transparent;\n",
              "      border-right-color: var(--fill-color);\n",
              "      border-top-color: var(--fill-color);\n",
              "    }\n",
              "    60% {\n",
              "      border-color: transparent;\n",
              "      border-right-color: var(--fill-color);\n",
              "    }\n",
              "    80% {\n",
              "      border-color: transparent;\n",
              "      border-right-color: var(--fill-color);\n",
              "      border-bottom-color: var(--fill-color);\n",
              "    }\n",
              "    90% {\n",
              "      border-color: transparent;\n",
              "      border-bottom-color: var(--fill-color);\n",
              "    }\n",
              "  }\n",
              "</style>\n",
              "\n",
              "  <script>\n",
              "    async function quickchart(key) {\n",
              "      const quickchartButtonEl =\n",
              "        document.querySelector('#' + key + ' button');\n",
              "      quickchartButtonEl.disabled = true;  // To prevent multiple clicks.\n",
              "      quickchartButtonEl.classList.add('colab-df-spinner');\n",
              "      try {\n",
              "        const charts = await google.colab.kernel.invokeFunction(\n",
              "            'suggestCharts', [key], {});\n",
              "      } catch (error) {\n",
              "        console.error('Error during call to suggestCharts:', error);\n",
              "      }\n",
              "      quickchartButtonEl.classList.remove('colab-df-spinner');\n",
              "      quickchartButtonEl.classList.add('colab-df-quickchart-complete');\n",
              "    }\n",
              "    (() => {\n",
              "      let quickchartButtonEl =\n",
              "        document.querySelector('#df-6d0f4c8a-843a-44c7-9076-e87661a8a75a button');\n",
              "      quickchartButtonEl.style.display =\n",
              "        google.colab.kernel.accessAllowed ? 'block' : 'none';\n",
              "    })();\n",
              "  </script>\n",
              "</div>\n",
              "    </div>\n",
              "  </div>\n"
            ],
            "application/vnd.google.colaboratory.intrinsic+json": {
              "type": "dataframe",
              "variable_name": "df"
            }
          },
          "metadata": {},
          "execution_count": 124
        }
      ]
    },
    {
      "cell_type": "code",
      "source": [
        "df['CustomerID'] = df['CustomerID'].fillna(-1)"
      ],
      "metadata": {
        "id": "ZyWXZCIhUUCA"
      },
      "id": "ZyWXZCIhUUCA",
      "execution_count": 125,
      "outputs": []
    },
    {
      "cell_type": "code",
      "source": [
        "df.head()"
      ],
      "metadata": {
        "colab": {
          "base_uri": "https://localhost:8080/",
          "height": 206
        },
        "id": "9N0dlepxWJYu",
        "outputId": "f578797a-e952-42a7-c4f5-d63b6af25623"
      },
      "id": "9N0dlepxWJYu",
      "execution_count": 126,
      "outputs": [
        {
          "output_type": "execute_result",
          "data": {
            "text/plain": [
              "  InvoiceNo StockCode                          Description  Quantity  \\\n",
              "0    536365    85123A   WHITE HANGING HEART T-LIGHT HOLDER         6   \n",
              "1    536365     71053                  WHITE METAL LANTERN         6   \n",
              "2    536365    84406B       CREAM CUPID HEARTS COAT HANGER         8   \n",
              "3    536365    84029G  KNITTED UNION FLAG HOT WATER BOTTLE         6   \n",
              "4    536365    84029E       RED WOOLLY HOTTIE WHITE HEART.         6   \n",
              "\n",
              "      InvoiceDate  UnitPrice  CustomerID         Country  \n",
              "0  12/1/2010 8:26       2.55     17850.0  United Kingdom  \n",
              "1  12/1/2010 8:26       3.39     17850.0  United Kingdom  \n",
              "2  12/1/2010 8:26       2.75     17850.0  United Kingdom  \n",
              "3  12/1/2010 8:26       3.39     17850.0  United Kingdom  \n",
              "4  12/1/2010 8:26       3.39     17850.0  United Kingdom  "
            ],
            "text/html": [
              "\n",
              "  <div id=\"df-254ac455-4751-477e-89b3-8e140a59396d\" class=\"colab-df-container\">\n",
              "    <div>\n",
              "<style scoped>\n",
              "    .dataframe tbody tr th:only-of-type {\n",
              "        vertical-align: middle;\n",
              "    }\n",
              "\n",
              "    .dataframe tbody tr th {\n",
              "        vertical-align: top;\n",
              "    }\n",
              "\n",
              "    .dataframe thead th {\n",
              "        text-align: right;\n",
              "    }\n",
              "</style>\n",
              "<table border=\"1\" class=\"dataframe\">\n",
              "  <thead>\n",
              "    <tr style=\"text-align: right;\">\n",
              "      <th></th>\n",
              "      <th>InvoiceNo</th>\n",
              "      <th>StockCode</th>\n",
              "      <th>Description</th>\n",
              "      <th>Quantity</th>\n",
              "      <th>InvoiceDate</th>\n",
              "      <th>UnitPrice</th>\n",
              "      <th>CustomerID</th>\n",
              "      <th>Country</th>\n",
              "    </tr>\n",
              "  </thead>\n",
              "  <tbody>\n",
              "    <tr>\n",
              "      <th>0</th>\n",
              "      <td>536365</td>\n",
              "      <td>85123A</td>\n",
              "      <td>WHITE HANGING HEART T-LIGHT HOLDER</td>\n",
              "      <td>6</td>\n",
              "      <td>12/1/2010 8:26</td>\n",
              "      <td>2.55</td>\n",
              "      <td>17850.0</td>\n",
              "      <td>United Kingdom</td>\n",
              "    </tr>\n",
              "    <tr>\n",
              "      <th>1</th>\n",
              "      <td>536365</td>\n",
              "      <td>71053</td>\n",
              "      <td>WHITE METAL LANTERN</td>\n",
              "      <td>6</td>\n",
              "      <td>12/1/2010 8:26</td>\n",
              "      <td>3.39</td>\n",
              "      <td>17850.0</td>\n",
              "      <td>United Kingdom</td>\n",
              "    </tr>\n",
              "    <tr>\n",
              "      <th>2</th>\n",
              "      <td>536365</td>\n",
              "      <td>84406B</td>\n",
              "      <td>CREAM CUPID HEARTS COAT HANGER</td>\n",
              "      <td>8</td>\n",
              "      <td>12/1/2010 8:26</td>\n",
              "      <td>2.75</td>\n",
              "      <td>17850.0</td>\n",
              "      <td>United Kingdom</td>\n",
              "    </tr>\n",
              "    <tr>\n",
              "      <th>3</th>\n",
              "      <td>536365</td>\n",
              "      <td>84029G</td>\n",
              "      <td>KNITTED UNION FLAG HOT WATER BOTTLE</td>\n",
              "      <td>6</td>\n",
              "      <td>12/1/2010 8:26</td>\n",
              "      <td>3.39</td>\n",
              "      <td>17850.0</td>\n",
              "      <td>United Kingdom</td>\n",
              "    </tr>\n",
              "    <tr>\n",
              "      <th>4</th>\n",
              "      <td>536365</td>\n",
              "      <td>84029E</td>\n",
              "      <td>RED WOOLLY HOTTIE WHITE HEART.</td>\n",
              "      <td>6</td>\n",
              "      <td>12/1/2010 8:26</td>\n",
              "      <td>3.39</td>\n",
              "      <td>17850.0</td>\n",
              "      <td>United Kingdom</td>\n",
              "    </tr>\n",
              "  </tbody>\n",
              "</table>\n",
              "</div>\n",
              "    <div class=\"colab-df-buttons\">\n",
              "\n",
              "  <div class=\"colab-df-container\">\n",
              "    <button class=\"colab-df-convert\" onclick=\"convertToInteractive('df-254ac455-4751-477e-89b3-8e140a59396d')\"\n",
              "            title=\"Convert this dataframe to an interactive table.\"\n",
              "            style=\"display:none;\">\n",
              "\n",
              "  <svg xmlns=\"http://www.w3.org/2000/svg\" height=\"24px\" viewBox=\"0 -960 960 960\">\n",
              "    <path d=\"M120-120v-720h720v720H120Zm60-500h600v-160H180v160Zm220 220h160v-160H400v160Zm0 220h160v-160H400v160ZM180-400h160v-160H180v160Zm440 0h160v-160H620v160ZM180-180h160v-160H180v160Zm440 0h160v-160H620v160Z\"/>\n",
              "  </svg>\n",
              "    </button>\n",
              "\n",
              "  <style>\n",
              "    .colab-df-container {\n",
              "      display:flex;\n",
              "      gap: 12px;\n",
              "    }\n",
              "\n",
              "    .colab-df-convert {\n",
              "      background-color: #E8F0FE;\n",
              "      border: none;\n",
              "      border-radius: 50%;\n",
              "      cursor: pointer;\n",
              "      display: none;\n",
              "      fill: #1967D2;\n",
              "      height: 32px;\n",
              "      padding: 0 0 0 0;\n",
              "      width: 32px;\n",
              "    }\n",
              "\n",
              "    .colab-df-convert:hover {\n",
              "      background-color: #E2EBFA;\n",
              "      box-shadow: 0px 1px 2px rgba(60, 64, 67, 0.3), 0px 1px 3px 1px rgba(60, 64, 67, 0.15);\n",
              "      fill: #174EA6;\n",
              "    }\n",
              "\n",
              "    .colab-df-buttons div {\n",
              "      margin-bottom: 4px;\n",
              "    }\n",
              "\n",
              "    [theme=dark] .colab-df-convert {\n",
              "      background-color: #3B4455;\n",
              "      fill: #D2E3FC;\n",
              "    }\n",
              "\n",
              "    [theme=dark] .colab-df-convert:hover {\n",
              "      background-color: #434B5C;\n",
              "      box-shadow: 0px 1px 3px 1px rgba(0, 0, 0, 0.15);\n",
              "      filter: drop-shadow(0px 1px 2px rgba(0, 0, 0, 0.3));\n",
              "      fill: #FFFFFF;\n",
              "    }\n",
              "  </style>\n",
              "\n",
              "    <script>\n",
              "      const buttonEl =\n",
              "        document.querySelector('#df-254ac455-4751-477e-89b3-8e140a59396d button.colab-df-convert');\n",
              "      buttonEl.style.display =\n",
              "        google.colab.kernel.accessAllowed ? 'block' : 'none';\n",
              "\n",
              "      async function convertToInteractive(key) {\n",
              "        const element = document.querySelector('#df-254ac455-4751-477e-89b3-8e140a59396d');\n",
              "        const dataTable =\n",
              "          await google.colab.kernel.invokeFunction('convertToInteractive',\n",
              "                                                    [key], {});\n",
              "        if (!dataTable) return;\n",
              "\n",
              "        const docLinkHtml = 'Like what you see? Visit the ' +\n",
              "          '<a target=\"_blank\" href=https://colab.research.google.com/notebooks/data_table.ipynb>data table notebook</a>'\n",
              "          + ' to learn more about interactive tables.';\n",
              "        element.innerHTML = '';\n",
              "        dataTable['output_type'] = 'display_data';\n",
              "        await google.colab.output.renderOutput(dataTable, element);\n",
              "        const docLink = document.createElement('div');\n",
              "        docLink.innerHTML = docLinkHtml;\n",
              "        element.appendChild(docLink);\n",
              "      }\n",
              "    </script>\n",
              "  </div>\n",
              "\n",
              "\n",
              "<div id=\"df-c43b2117-8fed-480f-95e9-da0a77ed8b31\">\n",
              "  <button class=\"colab-df-quickchart\" onclick=\"quickchart('df-c43b2117-8fed-480f-95e9-da0a77ed8b31')\"\n",
              "            title=\"Suggest charts\"\n",
              "            style=\"display:none;\">\n",
              "\n",
              "<svg xmlns=\"http://www.w3.org/2000/svg\" height=\"24px\"viewBox=\"0 0 24 24\"\n",
              "     width=\"24px\">\n",
              "    <g>\n",
              "        <path d=\"M19 3H5c-1.1 0-2 .9-2 2v14c0 1.1.9 2 2 2h14c1.1 0 2-.9 2-2V5c0-1.1-.9-2-2-2zM9 17H7v-7h2v7zm4 0h-2V7h2v10zm4 0h-2v-4h2v4z\"/>\n",
              "    </g>\n",
              "</svg>\n",
              "  </button>\n",
              "\n",
              "<style>\n",
              "  .colab-df-quickchart {\n",
              "      --bg-color: #E8F0FE;\n",
              "      --fill-color: #1967D2;\n",
              "      --hover-bg-color: #E2EBFA;\n",
              "      --hover-fill-color: #174EA6;\n",
              "      --disabled-fill-color: #AAA;\n",
              "      --disabled-bg-color: #DDD;\n",
              "  }\n",
              "\n",
              "  [theme=dark] .colab-df-quickchart {\n",
              "      --bg-color: #3B4455;\n",
              "      --fill-color: #D2E3FC;\n",
              "      --hover-bg-color: #434B5C;\n",
              "      --hover-fill-color: #FFFFFF;\n",
              "      --disabled-bg-color: #3B4455;\n",
              "      --disabled-fill-color: #666;\n",
              "  }\n",
              "\n",
              "  .colab-df-quickchart {\n",
              "    background-color: var(--bg-color);\n",
              "    border: none;\n",
              "    border-radius: 50%;\n",
              "    cursor: pointer;\n",
              "    display: none;\n",
              "    fill: var(--fill-color);\n",
              "    height: 32px;\n",
              "    padding: 0;\n",
              "    width: 32px;\n",
              "  }\n",
              "\n",
              "  .colab-df-quickchart:hover {\n",
              "    background-color: var(--hover-bg-color);\n",
              "    box-shadow: 0 1px 2px rgba(60, 64, 67, 0.3), 0 1px 3px 1px rgba(60, 64, 67, 0.15);\n",
              "    fill: var(--button-hover-fill-color);\n",
              "  }\n",
              "\n",
              "  .colab-df-quickchart-complete:disabled,\n",
              "  .colab-df-quickchart-complete:disabled:hover {\n",
              "    background-color: var(--disabled-bg-color);\n",
              "    fill: var(--disabled-fill-color);\n",
              "    box-shadow: none;\n",
              "  }\n",
              "\n",
              "  .colab-df-spinner {\n",
              "    border: 2px solid var(--fill-color);\n",
              "    border-color: transparent;\n",
              "    border-bottom-color: var(--fill-color);\n",
              "    animation:\n",
              "      spin 1s steps(1) infinite;\n",
              "  }\n",
              "\n",
              "  @keyframes spin {\n",
              "    0% {\n",
              "      border-color: transparent;\n",
              "      border-bottom-color: var(--fill-color);\n",
              "      border-left-color: var(--fill-color);\n",
              "    }\n",
              "    20% {\n",
              "      border-color: transparent;\n",
              "      border-left-color: var(--fill-color);\n",
              "      border-top-color: var(--fill-color);\n",
              "    }\n",
              "    30% {\n",
              "      border-color: transparent;\n",
              "      border-left-color: var(--fill-color);\n",
              "      border-top-color: var(--fill-color);\n",
              "      border-right-color: var(--fill-color);\n",
              "    }\n",
              "    40% {\n",
              "      border-color: transparent;\n",
              "      border-right-color: var(--fill-color);\n",
              "      border-top-color: var(--fill-color);\n",
              "    }\n",
              "    60% {\n",
              "      border-color: transparent;\n",
              "      border-right-color: var(--fill-color);\n",
              "    }\n",
              "    80% {\n",
              "      border-color: transparent;\n",
              "      border-right-color: var(--fill-color);\n",
              "      border-bottom-color: var(--fill-color);\n",
              "    }\n",
              "    90% {\n",
              "      border-color: transparent;\n",
              "      border-bottom-color: var(--fill-color);\n",
              "    }\n",
              "  }\n",
              "</style>\n",
              "\n",
              "  <script>\n",
              "    async function quickchart(key) {\n",
              "      const quickchartButtonEl =\n",
              "        document.querySelector('#' + key + ' button');\n",
              "      quickchartButtonEl.disabled = true;  // To prevent multiple clicks.\n",
              "      quickchartButtonEl.classList.add('colab-df-spinner');\n",
              "      try {\n",
              "        const charts = await google.colab.kernel.invokeFunction(\n",
              "            'suggestCharts', [key], {});\n",
              "      } catch (error) {\n",
              "        console.error('Error during call to suggestCharts:', error);\n",
              "      }\n",
              "      quickchartButtonEl.classList.remove('colab-df-spinner');\n",
              "      quickchartButtonEl.classList.add('colab-df-quickchart-complete');\n",
              "    }\n",
              "    (() => {\n",
              "      let quickchartButtonEl =\n",
              "        document.querySelector('#df-c43b2117-8fed-480f-95e9-da0a77ed8b31 button');\n",
              "      quickchartButtonEl.style.display =\n",
              "        google.colab.kernel.accessAllowed ? 'block' : 'none';\n",
              "    })();\n",
              "  </script>\n",
              "</div>\n",
              "    </div>\n",
              "  </div>\n"
            ],
            "application/vnd.google.colaboratory.intrinsic+json": {
              "type": "dataframe",
              "variable_name": "df"
            }
          },
          "metadata": {},
          "execution_count": 126
        }
      ]
    },
    {
      "cell_type": "code",
      "source": [
        "df['CustomerID'].isna().sum()"
      ],
      "metadata": {
        "colab": {
          "base_uri": "https://localhost:8080/"
        },
        "id": "1Q06bLRrVRXY",
        "outputId": "5979fd86-2a83-4f25-ff9b-7821fa40c842"
      },
      "id": "1Q06bLRrVRXY",
      "execution_count": 127,
      "outputs": [
        {
          "output_type": "execute_result",
          "data": {
            "text/plain": [
              "0"
            ]
          },
          "metadata": {},
          "execution_count": 127
        }
      ]
    },
    {
      "cell_type": "code",
      "source": [
        "df['CustomerID'] = df['CustomerID'].astype(int).astype(str)"
      ],
      "metadata": {
        "id": "n9XfAnLjWxXc"
      },
      "id": "n9XfAnLjWxXc",
      "execution_count": 128,
      "outputs": []
    },
    {
      "cell_type": "code",
      "source": [
        "df['CustomerID']"
      ],
      "metadata": {
        "colab": {
          "base_uri": "https://localhost:8080/",
          "height": 458
        },
        "id": "80s4PRlsaA2r",
        "outputId": "2f642511-bc74-47e4-8cf7-66b4bed2dfe9"
      },
      "id": "80s4PRlsaA2r",
      "execution_count": 129,
      "outputs": [
        {
          "output_type": "execute_result",
          "data": {
            "text/plain": [
              "0         17850\n",
              "1         17850\n",
              "2         17850\n",
              "3         17850\n",
              "4         17850\n",
              "          ...  \n",
              "541904    12680\n",
              "541905    12680\n",
              "541906    12680\n",
              "541907    12680\n",
              "541908    12680\n",
              "Name: CustomerID, Length: 541909, dtype: object"
            ],
            "text/html": [
              "<div>\n",
              "<style scoped>\n",
              "    .dataframe tbody tr th:only-of-type {\n",
              "        vertical-align: middle;\n",
              "    }\n",
              "\n",
              "    .dataframe tbody tr th {\n",
              "        vertical-align: top;\n",
              "    }\n",
              "\n",
              "    .dataframe thead th {\n",
              "        text-align: right;\n",
              "    }\n",
              "</style>\n",
              "<table border=\"1\" class=\"dataframe\">\n",
              "  <thead>\n",
              "    <tr style=\"text-align: right;\">\n",
              "      <th></th>\n",
              "      <th>CustomerID</th>\n",
              "    </tr>\n",
              "  </thead>\n",
              "  <tbody>\n",
              "    <tr>\n",
              "      <th>0</th>\n",
              "      <td>17850</td>\n",
              "    </tr>\n",
              "    <tr>\n",
              "      <th>1</th>\n",
              "      <td>17850</td>\n",
              "    </tr>\n",
              "    <tr>\n",
              "      <th>2</th>\n",
              "      <td>17850</td>\n",
              "    </tr>\n",
              "    <tr>\n",
              "      <th>3</th>\n",
              "      <td>17850</td>\n",
              "    </tr>\n",
              "    <tr>\n",
              "      <th>4</th>\n",
              "      <td>17850</td>\n",
              "    </tr>\n",
              "    <tr>\n",
              "      <th>...</th>\n",
              "      <td>...</td>\n",
              "    </tr>\n",
              "    <tr>\n",
              "      <th>541904</th>\n",
              "      <td>12680</td>\n",
              "    </tr>\n",
              "    <tr>\n",
              "      <th>541905</th>\n",
              "      <td>12680</td>\n",
              "    </tr>\n",
              "    <tr>\n",
              "      <th>541906</th>\n",
              "      <td>12680</td>\n",
              "    </tr>\n",
              "    <tr>\n",
              "      <th>541907</th>\n",
              "      <td>12680</td>\n",
              "    </tr>\n",
              "    <tr>\n",
              "      <th>541908</th>\n",
              "      <td>12680</td>\n",
              "    </tr>\n",
              "  </tbody>\n",
              "</table>\n",
              "<p>541909 rows × 1 columns</p>\n",
              "</div><br><label><b>dtype:</b> object</label>"
            ]
          },
          "metadata": {},
          "execution_count": 129
        }
      ]
    },
    {
      "cell_type": "code",
      "source": [
        "!pip install sweetviz"
      ],
      "metadata": {
        "colab": {
          "base_uri": "https://localhost:8080/"
        },
        "id": "pCVwwddWbWtC",
        "outputId": "8fcc22ed-5d44-467a-fbf0-74199b56c967"
      },
      "id": "pCVwwddWbWtC",
      "execution_count": 135,
      "outputs": [
        {
          "output_type": "stream",
          "name": "stdout",
          "text": [
            "Requirement already satisfied: sweetviz in /usr/local/lib/python3.11/dist-packages (2.3.1)\n",
            "Requirement already satisfied: pandas!=1.0.0,!=1.0.1,!=1.0.2,>=0.25.3 in /usr/local/lib/python3.11/dist-packages (from sweetviz) (2.2.2)\n",
            "Requirement already satisfied: numpy>=1.16.0 in /usr/local/lib/python3.11/dist-packages (from sweetviz) (1.26.4)\n",
            "Requirement already satisfied: matplotlib>=3.1.3 in /usr/local/lib/python3.11/dist-packages (from sweetviz) (3.10.0)\n",
            "Requirement already satisfied: tqdm>=4.43.0 in /usr/local/lib/python3.11/dist-packages (from sweetviz) (4.67.1)\n",
            "Requirement already satisfied: scipy>=1.3.2 in /usr/local/lib/python3.11/dist-packages (from sweetviz) (1.13.1)\n",
            "Requirement already satisfied: jinja2>=2.11.1 in /usr/local/lib/python3.11/dist-packages (from sweetviz) (3.1.5)\n",
            "Requirement already satisfied: importlib-resources>=1.2.0 in /usr/local/lib/python3.11/dist-packages (from sweetviz) (6.5.2)\n",
            "Requirement already satisfied: MarkupSafe>=2.0 in /usr/local/lib/python3.11/dist-packages (from jinja2>=2.11.1->sweetviz) (3.0.2)\n",
            "Requirement already satisfied: contourpy>=1.0.1 in /usr/local/lib/python3.11/dist-packages (from matplotlib>=3.1.3->sweetviz) (1.3.1)\n",
            "Requirement already satisfied: cycler>=0.10 in /usr/local/lib/python3.11/dist-packages (from matplotlib>=3.1.3->sweetviz) (0.12.1)\n",
            "Requirement already satisfied: fonttools>=4.22.0 in /usr/local/lib/python3.11/dist-packages (from matplotlib>=3.1.3->sweetviz) (4.55.7)\n",
            "Requirement already satisfied: kiwisolver>=1.3.1 in /usr/local/lib/python3.11/dist-packages (from matplotlib>=3.1.3->sweetviz) (1.4.8)\n",
            "Requirement already satisfied: packaging>=20.0 in /usr/local/lib/python3.11/dist-packages (from matplotlib>=3.1.3->sweetviz) (24.2)\n",
            "Requirement already satisfied: pillow>=8 in /usr/local/lib/python3.11/dist-packages (from matplotlib>=3.1.3->sweetviz) (11.1.0)\n",
            "Requirement already satisfied: pyparsing>=2.3.1 in /usr/local/lib/python3.11/dist-packages (from matplotlib>=3.1.3->sweetviz) (3.2.1)\n",
            "Requirement already satisfied: python-dateutil>=2.7 in /usr/local/lib/python3.11/dist-packages (from matplotlib>=3.1.3->sweetviz) (2.8.2)\n",
            "Requirement already satisfied: pytz>=2020.1 in /usr/local/lib/python3.11/dist-packages (from pandas!=1.0.0,!=1.0.1,!=1.0.2,>=0.25.3->sweetviz) (2024.2)\n",
            "Requirement already satisfied: tzdata>=2022.7 in /usr/local/lib/python3.11/dist-packages (from pandas!=1.0.0,!=1.0.1,!=1.0.2,>=0.25.3->sweetviz) (2025.1)\n",
            "Requirement already satisfied: six>=1.5 in /usr/local/lib/python3.11/dist-packages (from python-dateutil>=2.7->matplotlib>=3.1.3->sweetviz) (1.17.0)\n"
          ]
        }
      ]
    },
    {
      "cell_type": "code",
      "source": [
        "import sweetviz as sv"
      ],
      "metadata": {
        "id": "aOAmVmw4bvBO"
      },
      "id": "aOAmVmw4bvBO",
      "execution_count": 136,
      "outputs": []
    },
    {
      "cell_type": "code",
      "source": [
        "import warnings\n",
        "\n",
        "with warnings.catch_warnings(record=True):\n",
        "  compare_report = sv.compare(\n",
        "    [df[df['Country'] == 'Germany'], \"Germany\"],\n",
        "    [df[df['Country'] == 'France'], \"France\"])\n",
        "  compare_report.show_html('sweet_report.html')\n"
      ],
      "metadata": {
        "colab": {
          "base_uri": "https://localhost:8080/",
          "height": 66,
          "referenced_widgets": [
            "a77b2c5b32254938a9d8631577dd544c",
            "2c48fe19cc024920ac0d67aac3865b03",
            "4dea6344107c4c47985df940f2526153",
            "a7219ea3d46d4453af88281d5dc88b56",
            "6a7bf15cc2e246c4a9d0ede9889e8a8a",
            "c7b4f7b8056c46db9e861515d3bb2ee0",
            "0e46af2ca55f4962ac1cfe9d2e24c1c3",
            "ee2089abb96b41d9825350d1d0763462",
            "d346f0df41034a7cb91e57f51c7018bf",
            "96a36aa2ec2446f2877c2052e8ce76a0",
            "50b16d40b3bb46d2a5fc5ae0a9a0b7a6"
          ]
        },
        "id": "LXY1-nnFbH9p",
        "outputId": "67d50b66-5d0f-4af0-d71c-647ac1f48664"
      },
      "id": "LXY1-nnFbH9p",
      "execution_count": 146,
      "outputs": [
        {
          "output_type": "display_data",
          "data": {
            "text/plain": [
              "                                             |          | [  0%]   00:00 -> (? left)"
            ],
            "application/vnd.jupyter.widget-view+json": {
              "version_major": 2,
              "version_minor": 0,
              "model_id": "a77b2c5b32254938a9d8631577dd544c"
            }
          },
          "metadata": {}
        },
        {
          "output_type": "stream",
          "name": "stdout",
          "text": [
            "Report sweet_report.html was generated! NOTEBOOK/COLAB USERS: the web browser MAY not pop up, regardless, the report IS saved in your notebook/colab files.\n"
          ]
        }
      ]
    },
    {
      "cell_type": "code",
      "source": [
        "from google.colab import files\n",
        "files.download('sweet_report.html')"
      ],
      "metadata": {
        "colab": {
          "base_uri": "https://localhost:8080/",
          "height": 17
        },
        "id": "B-1Q3E_yfoBk",
        "outputId": "f6e61591-6844-410a-9f98-d7476c1de0ea"
      },
      "id": "B-1Q3E_yfoBk",
      "execution_count": 147,
      "outputs": [
        {
          "output_type": "display_data",
          "data": {
            "text/plain": [
              "<IPython.core.display.Javascript object>"
            ],
            "application/javascript": [
              "\n",
              "    async function download(id, filename, size) {\n",
              "      if (!google.colab.kernel.accessAllowed) {\n",
              "        return;\n",
              "      }\n",
              "      const div = document.createElement('div');\n",
              "      const label = document.createElement('label');\n",
              "      label.textContent = `Downloading \"${filename}\": `;\n",
              "      div.appendChild(label);\n",
              "      const progress = document.createElement('progress');\n",
              "      progress.max = size;\n",
              "      div.appendChild(progress);\n",
              "      document.body.appendChild(div);\n",
              "\n",
              "      const buffers = [];\n",
              "      let downloaded = 0;\n",
              "\n",
              "      const channel = await google.colab.kernel.comms.open(id);\n",
              "      // Send a message to notify the kernel that we're ready.\n",
              "      channel.send({})\n",
              "\n",
              "      for await (const message of channel.messages) {\n",
              "        // Send a message to notify the kernel that we're ready.\n",
              "        channel.send({})\n",
              "        if (message.buffers) {\n",
              "          for (const buffer of message.buffers) {\n",
              "            buffers.push(buffer);\n",
              "            downloaded += buffer.byteLength;\n",
              "            progress.value = downloaded;\n",
              "          }\n",
              "        }\n",
              "      }\n",
              "      const blob = new Blob(buffers, {type: 'application/binary'});\n",
              "      const a = document.createElement('a');\n",
              "      a.href = window.URL.createObjectURL(blob);\n",
              "      a.download = filename;\n",
              "      div.appendChild(a);\n",
              "      a.click();\n",
              "      div.remove();\n",
              "    }\n",
              "  "
            ]
          },
          "metadata": {}
        },
        {
          "output_type": "display_data",
          "data": {
            "text/plain": [
              "<IPython.core.display.Javascript object>"
            ],
            "application/javascript": [
              "download(\"download_b6d30289-79d1-4411-bef5-33d275d803c9\", \"sweet_report.html\", 906645)"
            ]
          },
          "metadata": {}
        }
      ]
    },
    {
      "cell_type": "markdown",
      "id": "07ae375a",
      "metadata": {
        "ExecuteTime": {
          "end_time": "2023-07-30T18:55:42.650457Z",
          "start_time": "2023-07-30T18:55:42.635729Z"
        },
        "id": "07ae375a"
      },
      "source": [
        "8.З допомогою ChatGPT виявіть, чи є та які помилки в наступному коді.  \n",
        "Попросіть після цього переписати код із дотриманням PEP8. Проаналізуйте результат. Чи справді ChatGPT виправив всі стилістичні помилки? Якщо ні, напишіть йому ще кілька запитів, аби код відповідав вимогам PEP8.  \n",
        "Вставте фінальну версію коду з чату у ноутбук та запустіть на заданому списку. Має вертатись 50.  \n",
        "Напишіть, які промпти (інструкції) при зверненні до ChatGPT ви застосували та додайте скріншот(-и) з промптами та відповідями чата.  \n",
        "Якщо зробили висновки при виконанні цього завдання, то діліться також :)\n",
        "\n",
        "**ЯК ВСТАВИТИ СКРІНШОТ в Jupyter Notebook** :\n",
        "1. Створіть нову Markdown клітинку\n",
        "2. В новоствореній клітинці обираєте в меню Jupyter Notebook Edit -> Insert Image\n",
        "3. Обираєте картинку\n",
        "4. В клітинці має зʼявитись текст, який містить картинку. Запустіть клітинку.\n",
        "\n",
        "Або можна просто перетягнути картинку в Markdown клітинку."
      ]
    },
    {
      "cell_type": "code",
      "execution_count": 150,
      "id": "a5c010c4",
      "metadata": {
        "ExecuteTime": {
          "end_time": "2023-07-30T19:16:20.977219Z",
          "start_time": "2023-07-30T19:16:20.973688Z"
        },
        "id": "a5c010c4"
      },
      "outputs": [],
      "source": [
        "def CalculateVariance(nl):\n",
        "    sum_list = 0\n",
        "    for n in nl:\n",
        "        sum_list = sum_list + n\n",
        "    mean = sum_list / len(nl)\n",
        "    sum_squares = 0\n",
        "    for n in nl:\n",
        "        sum_squares = sum_squares + n**2\n",
        "    mean_squares = sum_squares / len(nl)\n",
        "    return mean_squares"
      ]
    },
    {
      "cell_type": "code",
      "execution_count": 149,
      "id": "24bb3f81",
      "metadata": {
        "ExecuteTime": {
          "end_time": "2023-07-30T19:16:09.201841Z",
          "start_time": "2023-07-30T19:16:09.199174Z"
        },
        "id": "24bb3f81"
      },
      "outputs": [],
      "source": [
        "input_list = [75, 80, 85, 90, 95]"
      ]
    },
    {
      "cell_type": "code",
      "source": [
        "CalculateVariance(input_list)"
      ],
      "metadata": {
        "colab": {
          "base_uri": "https://localhost:8080/"
        },
        "id": "vh2mXZTqioy7",
        "outputId": "e8e90952-be65-43ba-c5b5-33e29bf1a346"
      },
      "id": "vh2mXZTqioy7",
      "execution_count": 153,
      "outputs": [
        {
          "output_type": "execute_result",
          "data": {
            "text/plain": [
              "7275.0"
            ]
          },
          "metadata": {},
          "execution_count": 153
        }
      ]
    },
    {
      "cell_type": "code",
      "source": [
        "def calculate_variance(nl):\n",
        "    sum_list = 0\n",
        "    for n in nl:\n",
        "        sum_list += n\n",
        "    mean = sum_list / len(nl)\n",
        "\n",
        "    sum_squares = 0\n",
        "    for n in nl:\n",
        "        sum_squares += n ** 2\n",
        "\n",
        "    mean_squares = sum_squares / len(nl)\n",
        "\n",
        "    return mean_squares\n"
      ],
      "metadata": {
        "id": "euAtm2L7ifof"
      },
      "id": "euAtm2L7ifof",
      "execution_count": 151,
      "outputs": []
    },
    {
      "cell_type": "code",
      "source": [
        "input_list = [75, 80, 85, 90, 95]\n",
        "variance = calculate_variance(input_list)\n",
        "print(f\"The variance is: {variance}\")\n"
      ],
      "metadata": {
        "colab": {
          "base_uri": "https://localhost:8080/"
        },
        "id": "aQfY0Qmoihif",
        "outputId": "54d0d20f-bc18-40b9-bb39-53d3cdbe2759"
      },
      "id": "aQfY0Qmoihif",
      "execution_count": 154,
      "outputs": [
        {
          "output_type": "stream",
          "name": "stdout",
          "text": [
            "The variance is: 7275.0\n"
          ]
        }
      ]
    },
    {
      "cell_type": "markdown",
      "source": [
        "Я додала код в чат гпт та попросила його, аби код відповідав вимогам PEP8. На мою думку, він класно з цим впорався.\n"
      ],
      "metadata": {
        "id": "MM0V9TXvj4ou"
      },
      "id": "MM0V9TXvj4ou"
    },
    {
      "cell_type": "markdown",
      "source": [
        "![Screenshot_1.png](data:image/png;base64,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)"
      ],
      "metadata": {
        "id": "6PzvloAykZJg"
      },
      "id": "6PzvloAykZJg"
    },
    {
      "cell_type": "markdown",
      "source": [
        "![Screenshot_2.png](data:image/png;base64,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)"
      ],
      "metadata": {
        "id": "EkEiCT3NkdqK"
      },
      "id": "EkEiCT3NkdqK"
    },
    {
      "cell_type": "markdown",
      "source": [
        "Так, як в завданні написано, що відповідь повинна бути 50: \"Вставте фінальну версію коду з чату у ноутбук та запустіть на заданому списку. Має вертатись 50.\" - я йому це написала і він змінив код і за формулою порахував дисперсію.\n",
        "\n",
        "![Screenshot_3.png](data:image/png;base64,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)"
      ],
      "metadata": {
        "id": "MZpswjookoCg"
      },
      "id": "MZpswjookoCg"
    },
    {
      "cell_type": "code",
      "source": [
        "def calculate_variance(nl):\n",
        "    sum_list = 0\n",
        "    for n in nl:\n",
        "        sum_list += n\n",
        "    mean = sum_list / len(nl)\n",
        "\n",
        "    sum_squared_diff = 0\n",
        "    for n in nl:\n",
        "        sum_squared_diff += (n - mean) ** 2\n",
        "\n",
        "    variance = sum_squared_diff / len(nl)\n",
        "    return variance\n"
      ],
      "metadata": {
        "id": "Jvc51eWijD9K"
      },
      "id": "Jvc51eWijD9K",
      "execution_count": 155,
      "outputs": []
    },
    {
      "cell_type": "code",
      "source": [
        "input_list = [75, 80, 85, 90, 95]\n",
        "variance = calculate_variance(input_list)\n",
        "print(f\"The variance is: {variance}\")\n"
      ],
      "metadata": {
        "colab": {
          "base_uri": "https://localhost:8080/"
        },
        "id": "jOtYPfWmjIL0",
        "outputId": "d5813b63-175b-4f0b-b21c-487079f0d32d"
      },
      "id": "jOtYPfWmjIL0",
      "execution_count": 156,
      "outputs": [
        {
          "output_type": "stream",
          "name": "stdout",
          "text": [
            "The variance is: 50.0\n"
          ]
        }
      ]
    },
    {
      "cell_type": "markdown",
      "source": [
        "Так, як функція називалась CalculateVariance - логічно було б порахувати дисперсію, але код просто рахував середнє значення квадратів елементів списку.\n",
        "\n",
        "Тому коли я йому сказала, що відповідь повинна бути 50, він переписав код та порахував дисперсію.\n"
      ],
      "metadata": {
        "id": "0BVbVIRplJYr"
      },
      "id": "0BVbVIRplJYr"
    }
  ],
  "metadata": {
    "kernelspec": {
      "display_name": "Python 3 (ipykernel)",
      "language": "python",
      "name": "python3"
    },
    "language_info": {
      "codemirror_mode": {
        "name": "ipython",
        "version": 3
      },
      "file_extension": ".py",
      "mimetype": "text/x-python",
      "name": "python",
      "nbconvert_exporter": "python",
      "pygments_lexer": "ipython3",
      "version": "3.10.4"
    },
    "toc": {
      "base_numbering": 1,
      "nav_menu": {},
      "number_sections": true,
      "sideBar": true,
      "skip_h1_title": false,
      "title_cell": "Table of Contents",
      "title_sidebar": "Contents",
      "toc_cell": false,
      "toc_position": {},
      "toc_section_display": true,
      "toc_window_display": false
    },
    "colab": {
      "provenance": [],
      "include_colab_link": true
    },
    "widgets": {
      "application/vnd.jupyter.widget-state+json": {
        "a77b2c5b32254938a9d8631577dd544c": {
          "model_module": "@jupyter-widgets/controls",
          "model_name": "HBoxModel",
          "model_module_version": "1.5.0",
          "state": {
            "_dom_classes": [],
            "_model_module": "@jupyter-widgets/controls",
            "_model_module_version": "1.5.0",
            "_model_name": "HBoxModel",
            "_view_count": null,
            "_view_module": "@jupyter-widgets/controls",
            "_view_module_version": "1.5.0",
            "_view_name": "HBoxView",
            "box_style": "",
            "children": [
              "IPY_MODEL_2c48fe19cc024920ac0d67aac3865b03",
              "IPY_MODEL_4dea6344107c4c47985df940f2526153",
              "IPY_MODEL_a7219ea3d46d4453af88281d5dc88b56"
            ],
            "layout": "IPY_MODEL_6a7bf15cc2e246c4a9d0ede9889e8a8a"
          }
        },
        "2c48fe19cc024920ac0d67aac3865b03": {
          "model_module": "@jupyter-widgets/controls",
          "model_name": "HTMLModel",
          "model_module_version": "1.5.0",
          "state": {
            "_dom_classes": [],
            "_model_module": "@jupyter-widgets/controls",
            "_model_module_version": "1.5.0",
            "_model_name": "HTMLModel",
            "_view_count": null,
            "_view_module": "@jupyter-widgets/controls",
            "_view_module_version": "1.5.0",
            "_view_name": "HTMLView",
            "description": "",
            "description_tooltip": null,
            "layout": "IPY_MODEL_c7b4f7b8056c46db9e861515d3bb2ee0",
            "placeholder": "​",
            "style": "IPY_MODEL_0e46af2ca55f4962ac1cfe9d2e24c1c3",
            "value": "Done! Use &#x27;show&#x27; commands to display/save.   "
          }
        },
        "4dea6344107c4c47985df940f2526153": {
          "model_module": "@jupyter-widgets/controls",
          "model_name": "FloatProgressModel",
          "model_module_version": "1.5.0",
          "state": {
            "_dom_classes": [],
            "_model_module": "@jupyter-widgets/controls",
            "_model_module_version": "1.5.0",
            "_model_name": "FloatProgressModel",
            "_view_count": null,
            "_view_module": "@jupyter-widgets/controls",
            "_view_module_version": "1.5.0",
            "_view_name": "ProgressView",
            "bar_style": "success",
            "description": "",
            "description_tooltip": null,
            "layout": "IPY_MODEL_ee2089abb96b41d9825350d1d0763462",
            "max": 1,
            "min": 0,
            "orientation": "horizontal",
            "style": "IPY_MODEL_d346f0df41034a7cb91e57f51c7018bf",
            "value": 1
          }
        },
        "a7219ea3d46d4453af88281d5dc88b56": {
          "model_module": "@jupyter-widgets/controls",
          "model_name": "HTMLModel",
          "model_module_version": "1.5.0",
          "state": {
            "_dom_classes": [],
            "_model_module": "@jupyter-widgets/controls",
            "_model_module_version": "1.5.0",
            "_model_name": "HTMLModel",
            "_view_count": null,
            "_view_module": "@jupyter-widgets/controls",
            "_view_module_version": "1.5.0",
            "_view_name": "HTMLView",
            "description": "",
            "description_tooltip": null,
            "layout": "IPY_MODEL_96a36aa2ec2446f2877c2052e8ce76a0",
            "placeholder": "​",
            "style": "IPY_MODEL_50b16d40b3bb46d2a5fc5ae0a9a0b7a6",
            "value": " [100%]   00:00 -&gt; (00:00 left)"
          }
        },
        "6a7bf15cc2e246c4a9d0ede9889e8a8a": {
          "model_module": "@jupyter-widgets/base",
          "model_name": "LayoutModel",
          "model_module_version": "1.2.0",
          "state": {
            "_model_module": "@jupyter-widgets/base",
            "_model_module_version": "1.2.0",
            "_model_name": "LayoutModel",
            "_view_count": null,
            "_view_module": "@jupyter-widgets/base",
            "_view_module_version": "1.2.0",
            "_view_name": "LayoutView",
            "align_content": null,
            "align_items": null,
            "align_self": null,
            "border": null,
            "bottom": null,
            "display": "inline-flex",
            "flex": null,
            "flex_flow": "row wrap",
            "grid_area": null,
            "grid_auto_columns": null,
            "grid_auto_flow": null,
            "grid_auto_rows": null,
            "grid_column": null,
            "grid_gap": null,
            "grid_row": null,
            "grid_template_areas": null,
            "grid_template_columns": null,
            "grid_template_rows": null,
            "height": null,
            "justify_content": null,
            "justify_items": null,
            "left": null,
            "margin": null,
            "max_height": null,
            "max_width": null,
            "min_height": null,
            "min_width": null,
            "object_fit": null,
            "object_position": null,
            "order": null,
            "overflow": null,
            "overflow_x": null,
            "overflow_y": null,
            "padding": null,
            "right": null,
            "top": null,
            "visibility": null,
            "width": "100%"
          }
        },
        "c7b4f7b8056c46db9e861515d3bb2ee0": {
          "model_module": "@jupyter-widgets/base",
          "model_name": "LayoutModel",
          "model_module_version": "1.2.0",
          "state": {
            "_model_module": "@jupyter-widgets/base",
            "_model_module_version": "1.2.0",
            "_model_name": "LayoutModel",
            "_view_count": null,
            "_view_module": "@jupyter-widgets/base",
            "_view_module_version": "1.2.0",
            "_view_name": "LayoutView",
            "align_content": null,
            "align_items": null,
            "align_self": null,
            "border": null,
            "bottom": null,
            "display": null,
            "flex": null,
            "flex_flow": null,
            "grid_area": null,
            "grid_auto_columns": null,
            "grid_auto_flow": null,
            "grid_auto_rows": null,
            "grid_column": null,
            "grid_gap": null,
            "grid_row": null,
            "grid_template_areas": null,
            "grid_template_columns": null,
            "grid_template_rows": null,
            "height": null,
            "justify_content": null,
            "justify_items": null,
            "left": null,
            "margin": null,
            "max_height": null,
            "max_width": null,
            "min_height": null,
            "min_width": null,
            "object_fit": null,
            "object_position": null,
            "order": null,
            "overflow": null,
            "overflow_x": null,
            "overflow_y": null,
            "padding": null,
            "right": null,
            "top": null,
            "visibility": null,
            "width": null
          }
        },
        "0e46af2ca55f4962ac1cfe9d2e24c1c3": {
          "model_module": "@jupyter-widgets/controls",
          "model_name": "DescriptionStyleModel",
          "model_module_version": "1.5.0",
          "state": {
            "_model_module": "@jupyter-widgets/controls",
            "_model_module_version": "1.5.0",
            "_model_name": "DescriptionStyleModel",
            "_view_count": null,
            "_view_module": "@jupyter-widgets/base",
            "_view_module_version": "1.2.0",
            "_view_name": "StyleView",
            "description_width": ""
          }
        },
        "ee2089abb96b41d9825350d1d0763462": {
          "model_module": "@jupyter-widgets/base",
          "model_name": "LayoutModel",
          "model_module_version": "1.2.0",
          "state": {
            "_model_module": "@jupyter-widgets/base",
            "_model_module_version": "1.2.0",
            "_model_name": "LayoutModel",
            "_view_count": null,
            "_view_module": "@jupyter-widgets/base",
            "_view_module_version": "1.2.0",
            "_view_name": "LayoutView",
            "align_content": null,
            "align_items": null,
            "align_self": null,
            "border": null,
            "bottom": null,
            "display": null,
            "flex": "2",
            "flex_flow": null,
            "grid_area": null,
            "grid_auto_columns": null,
            "grid_auto_flow": null,
            "grid_auto_rows": null,
            "grid_column": null,
            "grid_gap": null,
            "grid_row": null,
            "grid_template_areas": null,
            "grid_template_columns": null,
            "grid_template_rows": null,
            "height": null,
            "justify_content": null,
            "justify_items": null,
            "left": null,
            "margin": null,
            "max_height": null,
            "max_width": null,
            "min_height": null,
            "min_width": null,
            "object_fit": null,
            "object_position": null,
            "order": null,
            "overflow": null,
            "overflow_x": null,
            "overflow_y": null,
            "padding": null,
            "right": null,
            "top": null,
            "visibility": null,
            "width": null
          }
        },
        "d346f0df41034a7cb91e57f51c7018bf": {
          "model_module": "@jupyter-widgets/controls",
          "model_name": "ProgressStyleModel",
          "model_module_version": "1.5.0",
          "state": {
            "_model_module": "@jupyter-widgets/controls",
            "_model_module_version": "1.5.0",
            "_model_name": "ProgressStyleModel",
            "_view_count": null,
            "_view_module": "@jupyter-widgets/base",
            "_view_module_version": "1.2.0",
            "_view_name": "StyleView",
            "bar_color": null,
            "description_width": ""
          }
        },
        "96a36aa2ec2446f2877c2052e8ce76a0": {
          "model_module": "@jupyter-widgets/base",
          "model_name": "LayoutModel",
          "model_module_version": "1.2.0",
          "state": {
            "_model_module": "@jupyter-widgets/base",
            "_model_module_version": "1.2.0",
            "_model_name": "LayoutModel",
            "_view_count": null,
            "_view_module": "@jupyter-widgets/base",
            "_view_module_version": "1.2.0",
            "_view_name": "LayoutView",
            "align_content": null,
            "align_items": null,
            "align_self": null,
            "border": null,
            "bottom": null,
            "display": null,
            "flex": null,
            "flex_flow": null,
            "grid_area": null,
            "grid_auto_columns": null,
            "grid_auto_flow": null,
            "grid_auto_rows": null,
            "grid_column": null,
            "grid_gap": null,
            "grid_row": null,
            "grid_template_areas": null,
            "grid_template_columns": null,
            "grid_template_rows": null,
            "height": null,
            "justify_content": null,
            "justify_items": null,
            "left": null,
            "margin": null,
            "max_height": null,
            "max_width": null,
            "min_height": null,
            "min_width": null,
            "object_fit": null,
            "object_position": null,
            "order": null,
            "overflow": null,
            "overflow_x": null,
            "overflow_y": null,
            "padding": null,
            "right": null,
            "top": null,
            "visibility": null,
            "width": null
          }
        },
        "50b16d40b3bb46d2a5fc5ae0a9a0b7a6": {
          "model_module": "@jupyter-widgets/controls",
          "model_name": "DescriptionStyleModel",
          "model_module_version": "1.5.0",
          "state": {
            "_model_module": "@jupyter-widgets/controls",
            "_model_module_version": "1.5.0",
            "_model_name": "DescriptionStyleModel",
            "_view_count": null,
            "_view_module": "@jupyter-widgets/base",
            "_view_module_version": "1.2.0",
            "_view_name": "StyleView",
            "description_width": ""
          }
        }
      }
    }
  },
  "nbformat": 4,
  "nbformat_minor": 5
}